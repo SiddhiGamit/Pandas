{
 "cells": [
  {
   "cell_type": "markdown",
   "id": "a5a1d138",
   "metadata": {},
   "source": [
    "<h1>Treatment of missing values</h1>\n",
    "<ul>\n",
    "    <li>\n",
    "        <strong>Drop the missing values</strong>\n",
    "        <ul>\n",
    "            <li>\n",
    "                If the dateset is huge and missing vlaues are very few then we can directly drop the values because it will not have much impoact\n",
    "            </li>\n",
    "            <li>\n",
    "                Data missing in column is more than 30%\n",
    "            </li>\n",
    "        </ul>\n",
    "    </li>\n",
    "    <li>\n",
    "        <strong>Impute missing values</strong>\n",
    "        <ul>\n",
    "            <li>Categorical columns : \n",
    "                <ul>\n",
    "                    <li>\n",
    "                        Impute the mose popular category\n",
    "                    </li>\n",
    "                    <li>\n",
    "                        Imputation can be done using logistic regression techniques\n",
    "                    </li>\n",
    "                </ul>\n",
    "\n",
    "            </li>\n",
    "\n",
    "            <li>\n",
    "                Numerical Column: \n",
    "                <ul>\n",
    "                    <li>\n",
    "                        Replace the missing values using mean\n",
    "                    </li>\n",
    "                    <li>\n",
    "                        Replace the missing value using median\n",
    "                    </li>\n",
    "                    <li>\n",
    "                        Or using other method to fill missing values ( liner Regression , Interpolation ) \n",
    "                    </li>\n",
    "                </ul>\n",
    "            </li>\n",
    "            \n",
    "        </ul>\n",
    "    </li>\n",
    "</ul>"
   ]
  },
  {
   "cell_type": "code",
   "execution_count": 1,
   "id": "f77b134d",
   "metadata": {},
   "outputs": [],
   "source": [
    "import numpy as np\n",
    "import pandas as pd"
   ]
  },
  {
   "cell_type": "code",
   "execution_count": 2,
   "id": "8838bb9c",
   "metadata": {},
   "outputs": [],
   "source": [
    "df = pd.read_csv(\"googleplaystore_v2.csv\");"
   ]
  },
  {
   "cell_type": "markdown",
   "id": "7ecd4dce",
   "metadata": {},
   "source": [
    "## Check Missing Values"
   ]
  },
  {
   "cell_type": "code",
   "execution_count": 3,
   "id": "9a73ecaf",
   "metadata": {},
   "outputs": [
    {
     "data": {
      "text/plain": [
       "App                  0\n",
       "Category             0\n",
       "Rating            1474\n",
       "Reviews              0\n",
       "Size                 0\n",
       "Installs             0\n",
       "Type                 1\n",
       "Price                0\n",
       "Content Rating       1\n",
       "Genres               0\n",
       "Last Updated         0\n",
       "Current Ver          8\n",
       "Android Ver          3\n",
       "dtype: int64"
      ]
     },
     "execution_count": 3,
     "metadata": {},
     "output_type": "execute_result"
    }
   ],
   "source": [
    "df.isnull().sum()"
   ]
  },
  {
   "cell_type": "markdown",
   "id": "8fa0bcae",
   "metadata": {},
   "source": [
    "## Treat Missing Values"
   ]
  },
  {
   "cell_type": "code",
   "execution_count": 4,
   "id": "1b5f9c96",
   "metadata": {},
   "outputs": [
    {
     "data": {
      "text/html": [
       "<div>\n",
       "<style scoped>\n",
       "    .dataframe tbody tr th:only-of-type {\n",
       "        vertical-align: middle;\n",
       "    }\n",
       "\n",
       "    .dataframe tbody tr th {\n",
       "        vertical-align: top;\n",
       "    }\n",
       "\n",
       "    .dataframe thead th {\n",
       "        text-align: right;\n",
       "    }\n",
       "</style>\n",
       "<table border=\"1\" class=\"dataframe\">\n",
       "  <thead>\n",
       "    <tr style=\"text-align: right;\">\n",
       "      <th></th>\n",
       "      <th>App</th>\n",
       "      <th>Category</th>\n",
       "      <th>Rating</th>\n",
       "      <th>Reviews</th>\n",
       "      <th>Size</th>\n",
       "      <th>Installs</th>\n",
       "      <th>Type</th>\n",
       "      <th>Price</th>\n",
       "      <th>Content Rating</th>\n",
       "      <th>Genres</th>\n",
       "      <th>Last Updated</th>\n",
       "      <th>Current Ver</th>\n",
       "      <th>Android Ver</th>\n",
       "    </tr>\n",
       "  </thead>\n",
       "  <tbody>\n",
       "    <tr>\n",
       "      <th>0</th>\n",
       "      <td>Photo Editor &amp; Candy Camera &amp; Grid &amp; ScrapBook</td>\n",
       "      <td>ART_AND_DESIGN</td>\n",
       "      <td>4.1</td>\n",
       "      <td>159</td>\n",
       "      <td>19000.0</td>\n",
       "      <td>10,000+</td>\n",
       "      <td>Free</td>\n",
       "      <td>0</td>\n",
       "      <td>Everyone</td>\n",
       "      <td>Art &amp; Design</td>\n",
       "      <td>January 7, 2018</td>\n",
       "      <td>1.0.0</td>\n",
       "      <td>4.0.3 and up</td>\n",
       "    </tr>\n",
       "    <tr>\n",
       "      <th>1</th>\n",
       "      <td>Coloring book moana</td>\n",
       "      <td>ART_AND_DESIGN</td>\n",
       "      <td>3.9</td>\n",
       "      <td>967</td>\n",
       "      <td>14000.0</td>\n",
       "      <td>500,000+</td>\n",
       "      <td>Free</td>\n",
       "      <td>0</td>\n",
       "      <td>Everyone</td>\n",
       "      <td>Art &amp; Design;Pretend Play</td>\n",
       "      <td>January 15, 2018</td>\n",
       "      <td>2.0.0</td>\n",
       "      <td>4.0.3 and up</td>\n",
       "    </tr>\n",
       "  </tbody>\n",
       "</table>\n",
       "</div>"
      ],
      "text/plain": [
       "                                              App        Category  Rating  \\\n",
       "0  Photo Editor & Candy Camera & Grid & ScrapBook  ART_AND_DESIGN     4.1   \n",
       "1                             Coloring book moana  ART_AND_DESIGN     3.9   \n",
       "\n",
       "  Reviews     Size  Installs  Type Price Content Rating  \\\n",
       "0     159  19000.0   10,000+  Free     0       Everyone   \n",
       "1     967  14000.0  500,000+  Free     0       Everyone   \n",
       "\n",
       "                      Genres      Last Updated Current Ver   Android Ver  \n",
       "0               Art & Design   January 7, 2018       1.0.0  4.0.3 and up  \n",
       "1  Art & Design;Pretend Play  January 15, 2018       2.0.0  4.0.3 and up  "
      ]
     },
     "execution_count": 4,
     "metadata": {},
     "output_type": "execute_result"
    }
   ],
   "source": [
    "df.head(2)"
   ]
  },
  {
   "cell_type": "code",
   "execution_count": 5,
   "id": "24b1688b",
   "metadata": {},
   "outputs": [
    {
     "data": {
      "text/html": [
       "<div>\n",
       "<style scoped>\n",
       "    .dataframe tbody tr th:only-of-type {\n",
       "        vertical-align: middle;\n",
       "    }\n",
       "\n",
       "    .dataframe tbody tr th {\n",
       "        vertical-align: top;\n",
       "    }\n",
       "\n",
       "    .dataframe thead th {\n",
       "        text-align: right;\n",
       "    }\n",
       "</style>\n",
       "<table border=\"1\" class=\"dataframe\">\n",
       "  <thead>\n",
       "    <tr style=\"text-align: right;\">\n",
       "      <th></th>\n",
       "      <th>Rating</th>\n",
       "      <th>Size</th>\n",
       "    </tr>\n",
       "  </thead>\n",
       "  <tbody>\n",
       "    <tr>\n",
       "      <th>count</th>\n",
       "      <td>9367.000000</td>\n",
       "      <td>10841.000000</td>\n",
       "    </tr>\n",
       "    <tr>\n",
       "      <th>mean</th>\n",
       "      <td>4.193338</td>\n",
       "      <td>21516.529524</td>\n",
       "    </tr>\n",
       "    <tr>\n",
       "      <th>std</th>\n",
       "      <td>0.537431</td>\n",
       "      <td>20746.537567</td>\n",
       "    </tr>\n",
       "    <tr>\n",
       "      <th>min</th>\n",
       "      <td>1.000000</td>\n",
       "      <td>8.500000</td>\n",
       "    </tr>\n",
       "    <tr>\n",
       "      <th>25%</th>\n",
       "      <td>4.000000</td>\n",
       "      <td>5900.000000</td>\n",
       "    </tr>\n",
       "    <tr>\n",
       "      <th>50%</th>\n",
       "      <td>4.300000</td>\n",
       "      <td>18000.000000</td>\n",
       "    </tr>\n",
       "    <tr>\n",
       "      <th>75%</th>\n",
       "      <td>4.500000</td>\n",
       "      <td>26000.000000</td>\n",
       "    </tr>\n",
       "    <tr>\n",
       "      <th>max</th>\n",
       "      <td>19.000000</td>\n",
       "      <td>100000.000000</td>\n",
       "    </tr>\n",
       "  </tbody>\n",
       "</table>\n",
       "</div>"
      ],
      "text/plain": [
       "            Rating           Size\n",
       "count  9367.000000   10841.000000\n",
       "mean      4.193338   21516.529524\n",
       "std       0.537431   20746.537567\n",
       "min       1.000000       8.500000\n",
       "25%       4.000000    5900.000000\n",
       "50%       4.300000   18000.000000\n",
       "75%       4.500000   26000.000000\n",
       "max      19.000000  100000.000000"
      ]
     },
     "execution_count": 5,
     "metadata": {},
     "output_type": "execute_result"
    }
   ],
   "source": [
    "df.describe()"
   ]
  },
  {
   "cell_type": "code",
   "execution_count": 6,
   "id": "77d25e5f",
   "metadata": {},
   "outputs": [
    {
     "data": {
      "text/plain": [
       "Rating            13.60\n",
       "Current Ver        0.07\n",
       "Android Ver        0.03\n",
       "Type               0.01\n",
       "Content Rating     0.01\n",
       "App                0.00\n",
       "Category           0.00\n",
       "Reviews            0.00\n",
       "Size               0.00\n",
       "Installs           0.00\n",
       "Price              0.00\n",
       "Genres             0.00\n",
       "Last Updated       0.00\n",
       "dtype: float64"
      ]
     },
     "execution_count": 6,
     "metadata": {},
     "output_type": "execute_result"
    }
   ],
   "source": [
    "np.round((df.isnull().sum()/len(df)*100).sort_values(ascending=False),2)"
   ]
  },
  {
   "cell_type": "markdown",
   "id": "261ee6f6",
   "metadata": {},
   "source": [
    "<h3>Observation</h3>\n",
    "<ul>\n",
    "    <li>All column missing value are <30%  so we can not drop it</li>\n",
    "    <li></li>\n",
    "    <li></li>\n",
    "</ul>"
   ]
  },
  {
   "cell_type": "markdown",
   "id": "13655f7f",
   "metadata": {},
   "source": [
    "## 1. Treating : Droping row/column"
   ]
  },
  {
   "cell_type": "code",
   "execution_count": 7,
   "id": "e1e927cd",
   "metadata": {},
   "outputs": [],
   "source": [
    "# df.drop(df[df[\"Rating\"].isnull()],axis=1)\n",
    "df = df[df[\"Rating\"].notnull()]"
   ]
  },
  {
   "cell_type": "code",
   "execution_count": 8,
   "id": "31d6839d",
   "metadata": {},
   "outputs": [
    {
     "data": {
      "text/plain": [
       "App               0\n",
       "Category          0\n",
       "Rating            0\n",
       "Reviews           0\n",
       "Size              0\n",
       "Installs          0\n",
       "Type              0\n",
       "Price             0\n",
       "Content Rating    1\n",
       "Genres            0\n",
       "Last Updated      0\n",
       "Current Ver       4\n",
       "Android Ver       3\n",
       "dtype: int64"
      ]
     },
     "execution_count": 8,
     "metadata": {},
     "output_type": "execute_result"
    }
   ],
   "source": [
    "df.isnull().sum()"
   ]
  },
  {
   "cell_type": "markdown",
   "id": "c196f82e",
   "metadata": {},
   "source": [
    "##### For Android Ver"
   ]
  },
  {
   "cell_type": "code",
   "execution_count": 9,
   "id": "cb31ee18",
   "metadata": {},
   "outputs": [
    {
     "data": {
      "text/html": [
       "<div>\n",
       "<style scoped>\n",
       "    .dataframe tbody tr th:only-of-type {\n",
       "        vertical-align: middle;\n",
       "    }\n",
       "\n",
       "    .dataframe tbody tr th {\n",
       "        vertical-align: top;\n",
       "    }\n",
       "\n",
       "    .dataframe thead th {\n",
       "        text-align: right;\n",
       "    }\n",
       "</style>\n",
       "<table border=\"1\" class=\"dataframe\">\n",
       "  <thead>\n",
       "    <tr style=\"text-align: right;\">\n",
       "      <th></th>\n",
       "      <th>App</th>\n",
       "      <th>Category</th>\n",
       "      <th>Rating</th>\n",
       "      <th>Reviews</th>\n",
       "      <th>Size</th>\n",
       "      <th>Installs</th>\n",
       "      <th>Type</th>\n",
       "      <th>Price</th>\n",
       "      <th>Content Rating</th>\n",
       "      <th>Genres</th>\n",
       "      <th>Last Updated</th>\n",
       "      <th>Current Ver</th>\n",
       "      <th>Android Ver</th>\n",
       "    </tr>\n",
       "  </thead>\n",
       "  <tbody>\n",
       "    <tr>\n",
       "      <th>4453</th>\n",
       "      <td>[substratum] Vacuum: P</td>\n",
       "      <td>PERSONALIZATION</td>\n",
       "      <td>4.4</td>\n",
       "      <td>230</td>\n",
       "      <td>11000.000000</td>\n",
       "      <td>1,000+</td>\n",
       "      <td>Paid</td>\n",
       "      <td>$1.49</td>\n",
       "      <td>Everyone</td>\n",
       "      <td>Personalization</td>\n",
       "      <td>July 20, 2018</td>\n",
       "      <td>4.4</td>\n",
       "      <td>NaN</td>\n",
       "    </tr>\n",
       "    <tr>\n",
       "      <th>4490</th>\n",
       "      <td>Pi Dark [substratum]</td>\n",
       "      <td>PERSONALIZATION</td>\n",
       "      <td>4.5</td>\n",
       "      <td>189</td>\n",
       "      <td>2100.000000</td>\n",
       "      <td>10,000+</td>\n",
       "      <td>Free</td>\n",
       "      <td>0</td>\n",
       "      <td>Everyone</td>\n",
       "      <td>Personalization</td>\n",
       "      <td>March 27, 2018</td>\n",
       "      <td>1.1</td>\n",
       "      <td>NaN</td>\n",
       "    </tr>\n",
       "    <tr>\n",
       "      <th>10472</th>\n",
       "      <td>Life Made WI-Fi Touchscreen Photo Frame</td>\n",
       "      <td>1.9</td>\n",
       "      <td>19.0</td>\n",
       "      <td>3.0M</td>\n",
       "      <td>21516.529524</td>\n",
       "      <td>Free</td>\n",
       "      <td>0</td>\n",
       "      <td>Everyone</td>\n",
       "      <td>NaN</td>\n",
       "      <td>February 11, 2018</td>\n",
       "      <td>1.0.19</td>\n",
       "      <td>4.0 and up</td>\n",
       "      <td>NaN</td>\n",
       "    </tr>\n",
       "  </tbody>\n",
       "</table>\n",
       "</div>"
      ],
      "text/plain": [
       "                                           App         Category  Rating  \\\n",
       "4453                    [substratum] Vacuum: P  PERSONALIZATION     4.4   \n",
       "4490                      Pi Dark [substratum]  PERSONALIZATION     4.5   \n",
       "10472  Life Made WI-Fi Touchscreen Photo Frame              1.9    19.0   \n",
       "\n",
       "      Reviews          Size Installs  Type     Price Content Rating  \\\n",
       "4453      230  11000.000000   1,000+  Paid     $1.49       Everyone   \n",
       "4490      189   2100.000000  10,000+  Free         0       Everyone   \n",
       "10472    3.0M  21516.529524     Free     0  Everyone            NaN   \n",
       "\n",
       "                  Genres    Last Updated Current Ver Android Ver  \n",
       "4453     Personalization   July 20, 2018         4.4         NaN  \n",
       "4490     Personalization  March 27, 2018         1.1         NaN  \n",
       "10472  February 11, 2018          1.0.19  4.0 and up         NaN  "
      ]
     },
     "execution_count": 9,
     "metadata": {},
     "output_type": "execute_result"
    }
   ],
   "source": [
    "df[df[\"Android Ver\"].isnull()]"
   ]
  },
  {
   "cell_type": "code",
   "execution_count": 10,
   "id": "c7d3232e",
   "metadata": {},
   "outputs": [
    {
     "data": {
      "text/html": [
       "<div>\n",
       "<style scoped>\n",
       "    .dataframe tbody tr th:only-of-type {\n",
       "        vertical-align: middle;\n",
       "    }\n",
       "\n",
       "    .dataframe tbody tr th {\n",
       "        vertical-align: top;\n",
       "    }\n",
       "\n",
       "    .dataframe thead th {\n",
       "        text-align: right;\n",
       "    }\n",
       "</style>\n",
       "<table border=\"1\" class=\"dataframe\">\n",
       "  <thead>\n",
       "    <tr style=\"text-align: right;\">\n",
       "      <th></th>\n",
       "      <th>App</th>\n",
       "      <th>Category</th>\n",
       "      <th>Rating</th>\n",
       "      <th>Reviews</th>\n",
       "      <th>Size</th>\n",
       "      <th>Installs</th>\n",
       "      <th>Type</th>\n",
       "      <th>Price</th>\n",
       "      <th>Content Rating</th>\n",
       "      <th>Genres</th>\n",
       "      <th>Last Updated</th>\n",
       "      <th>Current Ver</th>\n",
       "      <th>Android Ver</th>\n",
       "    </tr>\n",
       "  </thead>\n",
       "  <tbody>\n",
       "    <tr>\n",
       "      <th>4453</th>\n",
       "      <td>[substratum] Vacuum: P</td>\n",
       "      <td>PERSONALIZATION</td>\n",
       "      <td>4.4</td>\n",
       "      <td>230</td>\n",
       "      <td>11000.0</td>\n",
       "      <td>1,000+</td>\n",
       "      <td>Paid</td>\n",
       "      <td>$1.49</td>\n",
       "      <td>Everyone</td>\n",
       "      <td>Personalization</td>\n",
       "      <td>July 20, 2018</td>\n",
       "      <td>4.4</td>\n",
       "      <td>NaN</td>\n",
       "    </tr>\n",
       "    <tr>\n",
       "      <th>4490</th>\n",
       "      <td>Pi Dark [substratum]</td>\n",
       "      <td>PERSONALIZATION</td>\n",
       "      <td>4.5</td>\n",
       "      <td>189</td>\n",
       "      <td>2100.0</td>\n",
       "      <td>10,000+</td>\n",
       "      <td>Free</td>\n",
       "      <td>0</td>\n",
       "      <td>Everyone</td>\n",
       "      <td>Personalization</td>\n",
       "      <td>March 27, 2018</td>\n",
       "      <td>1.1</td>\n",
       "      <td>NaN</td>\n",
       "    </tr>\n",
       "  </tbody>\n",
       "</table>\n",
       "</div>"
      ],
      "text/plain": [
       "                         App         Category  Rating Reviews     Size  \\\n",
       "4453  [substratum] Vacuum: P  PERSONALIZATION     4.4     230  11000.0   \n",
       "4490    Pi Dark [substratum]  PERSONALIZATION     4.5     189   2100.0   \n",
       "\n",
       "     Installs  Type  Price Content Rating           Genres    Last Updated  \\\n",
       "4453   1,000+  Paid  $1.49       Everyone  Personalization   July 20, 2018   \n",
       "4490  10,000+  Free      0       Everyone  Personalization  March 27, 2018   \n",
       "\n",
       "     Current Ver Android Ver  \n",
       "4453         4.4         NaN  \n",
       "4490         1.1         NaN  "
      ]
     },
     "execution_count": 10,
     "metadata": {},
     "output_type": "execute_result"
    }
   ],
   "source": [
    "# Drop row 10472\n",
    "\n",
    "# df.drop(10472,axis=0,inplace=True)\n",
    "df = df.drop(10472,axis=0)\n",
    "df[df[\"Android Ver\"].isnull()]"
   ]
  },
  {
   "cell_type": "markdown",
   "id": "8afd8d1d",
   "metadata": {},
   "source": [
    "## 2. Imputing Values"
   ]
  },
  {
   "cell_type": "code",
   "execution_count": 11,
   "id": "0357fcde",
   "metadata": {},
   "outputs": [
    {
     "data": {
      "text/plain": [
       "2"
      ]
     },
     "execution_count": 11,
     "metadata": {},
     "output_type": "execute_result"
    }
   ],
   "source": [
    "df[\"Android Ver\"].isnull().sum()"
   ]
  },
  {
   "cell_type": "code",
   "execution_count": 12,
   "id": "7643f662",
   "metadata": {
    "scrolled": false
   },
   "outputs": [
    {
     "data": {
      "text/plain": [
       "4.1 and up            2059\n",
       "Varies with device    1319\n",
       "4.0.3 and up          1240\n",
       "4.0 and up            1131\n",
       "4.4 and up             875\n",
       "2.3 and up             582\n",
       "5.0 and up             535\n",
       "4.2 and up             338\n",
       "2.3.3 and up           240\n",
       "3.0 and up             211\n",
       "2.2 and up             208\n",
       "4.3 and up             207\n",
       "2.1 and up             113\n",
       "1.6 and up              87\n",
       "6.0 and up              48\n",
       "7.0 and up              41\n",
       "3.2 and up              31\n",
       "2.0 and up              27\n",
       "5.1 and up              18\n",
       "1.5 and up              16\n",
       "3.1 and up               8\n",
       "2.0.1 and up             7\n",
       "4.4W and up              6\n",
       "8.0 and up               5\n",
       "7.1 and up               3\n",
       "4.0.3 - 7.1.1            2\n",
       "5.0 - 8.0                2\n",
       "1.0 and up               2\n",
       "7.0 - 7.1.1              1\n",
       "4.1 - 7.1.1              1\n",
       "5.0 - 6.0                1\n",
       "Name: Android Ver, dtype: int64"
      ]
     },
     "execution_count": 12,
     "metadata": {},
     "output_type": "execute_result"
    }
   ],
   "source": [
    "df[\"Android Ver\"].value_counts()"
   ]
  },
  {
   "cell_type": "markdown",
   "id": "ec9b858d",
   "metadata": {},
   "source": [
    "##### This is Categorical data need to fill null values\n",
    "<p>Fill With Mode</p>"
   ]
  },
  {
   "cell_type": "code",
   "execution_count": 30,
   "id": "6fe76bad",
   "metadata": {},
   "outputs": [
    {
     "data": {
      "text/plain": [
       "0    4.1 and up\n",
       "dtype: object"
      ]
     },
     "execution_count": 30,
     "metadata": {},
     "output_type": "execute_result"
    }
   ],
   "source": [
    "df[\"Android Ver\"].mode()"
   ]
  },
  {
   "cell_type": "code",
   "execution_count": 31,
   "id": "90bab47b",
   "metadata": {},
   "outputs": [],
   "source": [
    "df[\"Android Ver\"].fillna(df[\"Android Ver\"].mode()[0],inplace=True)"
   ]
  },
  {
   "cell_type": "code",
   "execution_count": 32,
   "id": "17e8453a",
   "metadata": {},
   "outputs": [
    {
     "data": {
      "text/html": [
       "<div>\n",
       "<style scoped>\n",
       "    .dataframe tbody tr th:only-of-type {\n",
       "        vertical-align: middle;\n",
       "    }\n",
       "\n",
       "    .dataframe tbody tr th {\n",
       "        vertical-align: top;\n",
       "    }\n",
       "\n",
       "    .dataframe thead th {\n",
       "        text-align: right;\n",
       "    }\n",
       "</style>\n",
       "<table border=\"1\" class=\"dataframe\">\n",
       "  <thead>\n",
       "    <tr style=\"text-align: right;\">\n",
       "      <th></th>\n",
       "      <th>App</th>\n",
       "      <th>Category</th>\n",
       "      <th>Rating</th>\n",
       "      <th>Reviews</th>\n",
       "      <th>Size</th>\n",
       "      <th>Installs</th>\n",
       "      <th>Type</th>\n",
       "      <th>Price</th>\n",
       "      <th>Content Rating</th>\n",
       "      <th>Genres</th>\n",
       "      <th>Last Updated</th>\n",
       "      <th>Current Ver</th>\n",
       "      <th>Android Ver</th>\n",
       "    </tr>\n",
       "  </thead>\n",
       "  <tbody>\n",
       "    <tr>\n",
       "      <th>0</th>\n",
       "      <td>Photo Editor &amp; Candy Camera &amp; Grid &amp; ScrapBook</td>\n",
       "      <td>ART_AND_DESIGN</td>\n",
       "      <td>4.1</td>\n",
       "      <td>159</td>\n",
       "      <td>19000.000000</td>\n",
       "      <td>10000.0</td>\n",
       "      <td>Free</td>\n",
       "      <td>0.0</td>\n",
       "      <td>Everyone</td>\n",
       "      <td>Art &amp; Design</td>\n",
       "      <td>January 7, 2018</td>\n",
       "      <td>1.0.0</td>\n",
       "      <td>4.0.3 and up</td>\n",
       "    </tr>\n",
       "    <tr>\n",
       "      <th>1</th>\n",
       "      <td>Coloring book moana</td>\n",
       "      <td>ART_AND_DESIGN</td>\n",
       "      <td>3.9</td>\n",
       "      <td>967</td>\n",
       "      <td>14000.000000</td>\n",
       "      <td>500000.0</td>\n",
       "      <td>Free</td>\n",
       "      <td>0.0</td>\n",
       "      <td>Everyone</td>\n",
       "      <td>Art &amp; Design;Pretend Play</td>\n",
       "      <td>January 15, 2018</td>\n",
       "      <td>2.0.0</td>\n",
       "      <td>4.0.3 and up</td>\n",
       "    </tr>\n",
       "    <tr>\n",
       "      <th>2</th>\n",
       "      <td>U Launcher Lite – FREE Live Cool Themes, Hide ...</td>\n",
       "      <td>ART_AND_DESIGN</td>\n",
       "      <td>4.7</td>\n",
       "      <td>87510</td>\n",
       "      <td>8700.000000</td>\n",
       "      <td>5000000.0</td>\n",
       "      <td>Free</td>\n",
       "      <td>0.0</td>\n",
       "      <td>Everyone</td>\n",
       "      <td>Art &amp; Design</td>\n",
       "      <td>August 1, 2018</td>\n",
       "      <td>1.2.4</td>\n",
       "      <td>4.0.3 and up</td>\n",
       "    </tr>\n",
       "    <tr>\n",
       "      <th>3</th>\n",
       "      <td>Sketch - Draw &amp; Paint</td>\n",
       "      <td>ART_AND_DESIGN</td>\n",
       "      <td>4.5</td>\n",
       "      <td>215644</td>\n",
       "      <td>25000.000000</td>\n",
       "      <td>50000000.0</td>\n",
       "      <td>Free</td>\n",
       "      <td>0.0</td>\n",
       "      <td>Teen</td>\n",
       "      <td>Art &amp; Design</td>\n",
       "      <td>June 8, 2018</td>\n",
       "      <td>Varies with device</td>\n",
       "      <td>4.2 and up</td>\n",
       "    </tr>\n",
       "    <tr>\n",
       "      <th>4</th>\n",
       "      <td>Pixel Draw - Number Art Coloring Book</td>\n",
       "      <td>ART_AND_DESIGN</td>\n",
       "      <td>4.3</td>\n",
       "      <td>967</td>\n",
       "      <td>2800.000000</td>\n",
       "      <td>100000.0</td>\n",
       "      <td>Free</td>\n",
       "      <td>0.0</td>\n",
       "      <td>Everyone</td>\n",
       "      <td>Art &amp; Design;Creativity</td>\n",
       "      <td>June 20, 2018</td>\n",
       "      <td>1.1</td>\n",
       "      <td>4.4 and up</td>\n",
       "    </tr>\n",
       "    <tr>\n",
       "      <th>...</th>\n",
       "      <td>...</td>\n",
       "      <td>...</td>\n",
       "      <td>...</td>\n",
       "      <td>...</td>\n",
       "      <td>...</td>\n",
       "      <td>...</td>\n",
       "      <td>...</td>\n",
       "      <td>...</td>\n",
       "      <td>...</td>\n",
       "      <td>...</td>\n",
       "      <td>...</td>\n",
       "      <td>...</td>\n",
       "      <td>...</td>\n",
       "    </tr>\n",
       "    <tr>\n",
       "      <th>10834</th>\n",
       "      <td>FR Calculator</td>\n",
       "      <td>FAMILY</td>\n",
       "      <td>4.0</td>\n",
       "      <td>7</td>\n",
       "      <td>2600.000000</td>\n",
       "      <td>500.0</td>\n",
       "      <td>Free</td>\n",
       "      <td>0.0</td>\n",
       "      <td>Everyone</td>\n",
       "      <td>Education</td>\n",
       "      <td>June 18, 2017</td>\n",
       "      <td>1.0.0</td>\n",
       "      <td>4.1 and up</td>\n",
       "    </tr>\n",
       "    <tr>\n",
       "      <th>10836</th>\n",
       "      <td>Sya9a Maroc - FR</td>\n",
       "      <td>FAMILY</td>\n",
       "      <td>4.5</td>\n",
       "      <td>38</td>\n",
       "      <td>53000.000000</td>\n",
       "      <td>5000.0</td>\n",
       "      <td>Free</td>\n",
       "      <td>0.0</td>\n",
       "      <td>Everyone</td>\n",
       "      <td>Education</td>\n",
       "      <td>July 25, 2017</td>\n",
       "      <td>1.48</td>\n",
       "      <td>4.1 and up</td>\n",
       "    </tr>\n",
       "    <tr>\n",
       "      <th>10837</th>\n",
       "      <td>Fr. Mike Schmitz Audio Teachings</td>\n",
       "      <td>FAMILY</td>\n",
       "      <td>5.0</td>\n",
       "      <td>4</td>\n",
       "      <td>3600.000000</td>\n",
       "      <td>100.0</td>\n",
       "      <td>Free</td>\n",
       "      <td>0.0</td>\n",
       "      <td>Everyone</td>\n",
       "      <td>Education</td>\n",
       "      <td>July 6, 2018</td>\n",
       "      <td>1.0</td>\n",
       "      <td>4.1 and up</td>\n",
       "    </tr>\n",
       "    <tr>\n",
       "      <th>10839</th>\n",
       "      <td>The SCP Foundation DB fr nn5n</td>\n",
       "      <td>BOOKS_AND_REFERENCE</td>\n",
       "      <td>4.5</td>\n",
       "      <td>114</td>\n",
       "      <td>21516.529524</td>\n",
       "      <td>1000.0</td>\n",
       "      <td>Free</td>\n",
       "      <td>0.0</td>\n",
       "      <td>Mature 17+</td>\n",
       "      <td>Books &amp; Reference</td>\n",
       "      <td>January 19, 2015</td>\n",
       "      <td>Varies with device</td>\n",
       "      <td>Varies with device</td>\n",
       "    </tr>\n",
       "    <tr>\n",
       "      <th>10840</th>\n",
       "      <td>iHoroscope - 2018 Daily Horoscope &amp; Astrology</td>\n",
       "      <td>LIFESTYLE</td>\n",
       "      <td>4.5</td>\n",
       "      <td>398307</td>\n",
       "      <td>19000.000000</td>\n",
       "      <td>10000000.0</td>\n",
       "      <td>Free</td>\n",
       "      <td>0.0</td>\n",
       "      <td>Everyone</td>\n",
       "      <td>Lifestyle</td>\n",
       "      <td>July 25, 2018</td>\n",
       "      <td>Varies with device</td>\n",
       "      <td>Varies with device</td>\n",
       "    </tr>\n",
       "  </tbody>\n",
       "</table>\n",
       "<p>9366 rows × 13 columns</p>\n",
       "</div>"
      ],
      "text/plain": [
       "                                                     App             Category  \\\n",
       "0         Photo Editor & Candy Camera & Grid & ScrapBook       ART_AND_DESIGN   \n",
       "1                                    Coloring book moana       ART_AND_DESIGN   \n",
       "2      U Launcher Lite – FREE Live Cool Themes, Hide ...       ART_AND_DESIGN   \n",
       "3                                  Sketch - Draw & Paint       ART_AND_DESIGN   \n",
       "4                  Pixel Draw - Number Art Coloring Book       ART_AND_DESIGN   \n",
       "...                                                  ...                  ...   \n",
       "10834                                      FR Calculator               FAMILY   \n",
       "10836                                   Sya9a Maroc - FR               FAMILY   \n",
       "10837                   Fr. Mike Schmitz Audio Teachings               FAMILY   \n",
       "10839                      The SCP Foundation DB fr nn5n  BOOKS_AND_REFERENCE   \n",
       "10840      iHoroscope - 2018 Daily Horoscope & Astrology            LIFESTYLE   \n",
       "\n",
       "       Rating Reviews          Size    Installs  Type  Price Content Rating  \\\n",
       "0         4.1     159  19000.000000     10000.0  Free    0.0       Everyone   \n",
       "1         3.9     967  14000.000000    500000.0  Free    0.0       Everyone   \n",
       "2         4.7   87510   8700.000000   5000000.0  Free    0.0       Everyone   \n",
       "3         4.5  215644  25000.000000  50000000.0  Free    0.0           Teen   \n",
       "4         4.3     967   2800.000000    100000.0  Free    0.0       Everyone   \n",
       "...       ...     ...           ...         ...   ...    ...            ...   \n",
       "10834     4.0       7   2600.000000       500.0  Free    0.0       Everyone   \n",
       "10836     4.5      38  53000.000000      5000.0  Free    0.0       Everyone   \n",
       "10837     5.0       4   3600.000000       100.0  Free    0.0       Everyone   \n",
       "10839     4.5     114  21516.529524      1000.0  Free    0.0     Mature 17+   \n",
       "10840     4.5  398307  19000.000000  10000000.0  Free    0.0       Everyone   \n",
       "\n",
       "                          Genres      Last Updated         Current Ver  \\\n",
       "0                   Art & Design   January 7, 2018               1.0.0   \n",
       "1      Art & Design;Pretend Play  January 15, 2018               2.0.0   \n",
       "2                   Art & Design    August 1, 2018               1.2.4   \n",
       "3                   Art & Design      June 8, 2018  Varies with device   \n",
       "4        Art & Design;Creativity     June 20, 2018                 1.1   \n",
       "...                          ...               ...                 ...   \n",
       "10834                  Education     June 18, 2017               1.0.0   \n",
       "10836                  Education     July 25, 2017                1.48   \n",
       "10837                  Education      July 6, 2018                 1.0   \n",
       "10839          Books & Reference  January 19, 2015  Varies with device   \n",
       "10840                  Lifestyle     July 25, 2018  Varies with device   \n",
       "\n",
       "              Android Ver  \n",
       "0            4.0.3 and up  \n",
       "1            4.0.3 and up  \n",
       "2            4.0.3 and up  \n",
       "3              4.2 and up  \n",
       "4              4.4 and up  \n",
       "...                   ...  \n",
       "10834          4.1 and up  \n",
       "10836          4.1 and up  \n",
       "10837          4.1 and up  \n",
       "10839  Varies with device  \n",
       "10840  Varies with device  \n",
       "\n",
       "[9366 rows x 13 columns]"
      ]
     },
     "execution_count": 32,
     "metadata": {},
     "output_type": "execute_result"
    }
   ],
   "source": [
    "df"
   ]
  },
  {
   "cell_type": "markdown",
   "id": "904afa12",
   "metadata": {},
   "source": [
    "#### On Current Version Column"
   ]
  },
  {
   "cell_type": "code",
   "execution_count": 15,
   "id": "b8a5f953",
   "metadata": {},
   "outputs": [
    {
     "data": {
      "text/plain": [
       "Varies with device    1415\n",
       "1.0                    458\n",
       "1.1                    195\n",
       "1.2                    126\n",
       "1.3                    120\n",
       "                      ... \n",
       "2.9.10                   1\n",
       "3.18.5                   1\n",
       "1.3.A.2.9                1\n",
       "9.9.1.1910               1\n",
       "0.3.4                    1\n",
       "Name: Current Ver, Length: 2638, dtype: int64"
      ]
     },
     "execution_count": 15,
     "metadata": {},
     "output_type": "execute_result"
    }
   ],
   "source": [
    "df[\"Current Ver\"].value_counts()"
   ]
  },
  {
   "cell_type": "code",
   "execution_count": 16,
   "id": "1262f2ed",
   "metadata": {},
   "outputs": [
    {
     "data": {
      "text/plain": [
       "0    Varies with device\n",
       "dtype: object"
      ]
     },
     "execution_count": 16,
     "metadata": {},
     "output_type": "execute_result"
    }
   ],
   "source": [
    "# Check Mode values\n",
    "df[\"Current Ver\"].mode()"
   ]
  },
  {
   "cell_type": "code",
   "execution_count": 17,
   "id": "84448eea",
   "metadata": {},
   "outputs": [
    {
     "data": {
      "text/plain": [
       "4"
      ]
     },
     "execution_count": 17,
     "metadata": {},
     "output_type": "execute_result"
    }
   ],
   "source": [
    "# Check Total null values in Current Ver\n",
    "df[\"Current Ver\"].isnull().sum()"
   ]
  },
  {
   "cell_type": "code",
   "execution_count": 18,
   "id": "e380b2c3",
   "metadata": {},
   "outputs": [
    {
     "data": {
      "text/plain": [
       "0"
      ]
     },
     "execution_count": 18,
     "metadata": {},
     "output_type": "execute_result"
    }
   ],
   "source": [
    "# Null values fill with mode\n",
    "df[\"Current Ver\"].fillna(df[\"Current Ver\"].mode()[0],inplace=True)\n",
    "df[\"Current Ver\"].isnull().sum()"
   ]
  },
  {
   "cell_type": "code",
   "execution_count": 19,
   "id": "ea94f737",
   "metadata": {},
   "outputs": [
    {
     "data": {
      "text/plain": [
       "App               0\n",
       "Category          0\n",
       "Rating            0\n",
       "Reviews           0\n",
       "Size              0\n",
       "Installs          0\n",
       "Type              0\n",
       "Price             0\n",
       "Content Rating    0\n",
       "Genres            0\n",
       "Last Updated      0\n",
       "Current Ver       0\n",
       "Android Ver       0\n",
       "dtype: int64"
      ]
     },
     "execution_count": 19,
     "metadata": {},
     "output_type": "execute_result"
    }
   ],
   "source": [
    "df.isnull().sum()"
   ]
  },
  {
   "cell_type": "markdown",
   "id": "775847f6",
   "metadata": {},
   "source": [
    "# Standerdizing The Values"
   ]
  },
  {
   "cell_type": "markdown",
   "id": "fe044732",
   "metadata": {},
   "source": [
    "#### 1. Handling Incorrect Data Types"
   ]
  },
  {
   "cell_type": "code",
   "execution_count": 20,
   "id": "21474a47",
   "metadata": {},
   "outputs": [
    {
     "name": "stdout",
     "output_type": "stream",
     "text": [
      "<class 'pandas.core.frame.DataFrame'>\n",
      "Int64Index: 9366 entries, 0 to 10840\n",
      "Data columns (total 13 columns):\n",
      " #   Column          Non-Null Count  Dtype  \n",
      "---  ------          --------------  -----  \n",
      " 0   App             9366 non-null   object \n",
      " 1   Category        9366 non-null   object \n",
      " 2   Rating          9366 non-null   float64\n",
      " 3   Reviews         9366 non-null   object \n",
      " 4   Size            9366 non-null   float64\n",
      " 5   Installs        9366 non-null   object \n",
      " 6   Type            9366 non-null   object \n",
      " 7   Price           9366 non-null   object \n",
      " 8   Content Rating  9366 non-null   object \n",
      " 9   Genres          9366 non-null   object \n",
      " 10  Last Updated    9366 non-null   object \n",
      " 11  Current Ver     9366 non-null   object \n",
      " 12  Android Ver     9366 non-null   object \n",
      "dtypes: float64(2), object(11)\n",
      "memory usage: 1.0+ MB\n"
     ]
    }
   ],
   "source": [
    "df.info()"
   ]
  },
  {
   "cell_type": "markdown",
   "id": "e35e03c0",
   "metadata": {},
   "source": [
    "\n",
    "<ul>\n",
    "    <li>Remove '$' and ',' from  price</li>\n",
    "</ul>"
   ]
  },
  {
   "cell_type": "code",
   "execution_count": 21,
   "id": "62ecb6fc",
   "metadata": {},
   "outputs": [
    {
     "data": {
      "text/plain": [
       "0          8719\n",
       "$2.99       114\n",
       "$0.99       107\n",
       "$4.99        70\n",
       "$1.99        59\n",
       "           ... \n",
       "$1.29         1\n",
       "$299.99       1\n",
       "$379.99       1\n",
       "$37.99        1\n",
       "$1.20         1\n",
       "Name: Price, Length: 73, dtype: int64"
      ]
     },
     "execution_count": 21,
     "metadata": {},
     "output_type": "execute_result"
    }
   ],
   "source": [
    "# Correct Price Column\n",
    "df[\"Price\"].value_counts()"
   ]
  },
  {
   "cell_type": "code",
   "execution_count": 22,
   "id": "a9879fe9",
   "metadata": {},
   "outputs": [],
   "source": [
    "def filter_price(x):\n",
    "    x = float(x.replace(\"$\",\"\"))\n",
    "    return x\n",
    "\n",
    "df[\"Price\"] = df[\"Price\"].apply(filter_price)"
   ]
  },
  {
   "cell_type": "code",
   "execution_count": 23,
   "id": "c44f80cc",
   "metadata": {
    "scrolled": true
   },
   "outputs": [
    {
     "data": {
      "text/html": [
       "<div>\n",
       "<style scoped>\n",
       "    .dataframe tbody tr th:only-of-type {\n",
       "        vertical-align: middle;\n",
       "    }\n",
       "\n",
       "    .dataframe tbody tr th {\n",
       "        vertical-align: top;\n",
       "    }\n",
       "\n",
       "    .dataframe thead th {\n",
       "        text-align: right;\n",
       "    }\n",
       "</style>\n",
       "<table border=\"1\" class=\"dataframe\">\n",
       "  <thead>\n",
       "    <tr style=\"text-align: right;\">\n",
       "      <th></th>\n",
       "      <th>App</th>\n",
       "      <th>Category</th>\n",
       "      <th>Rating</th>\n",
       "      <th>Reviews</th>\n",
       "      <th>Size</th>\n",
       "      <th>Installs</th>\n",
       "      <th>Type</th>\n",
       "      <th>Price</th>\n",
       "      <th>Content Rating</th>\n",
       "      <th>Genres</th>\n",
       "      <th>Last Updated</th>\n",
       "      <th>Current Ver</th>\n",
       "      <th>Android Ver</th>\n",
       "    </tr>\n",
       "  </thead>\n",
       "  <tbody>\n",
       "    <tr>\n",
       "      <th>8095</th>\n",
       "      <td>Alpha Bank CY</td>\n",
       "      <td>FINANCE</td>\n",
       "      <td>4.7</td>\n",
       "      <td>39</td>\n",
       "      <td>20000.0</td>\n",
       "      <td>1,000+</td>\n",
       "      <td>Free</td>\n",
       "      <td>0.00</td>\n",
       "      <td>Everyone</td>\n",
       "      <td>Finance</td>\n",
       "      <td>March 20, 2018</td>\n",
       "      <td>1.11</td>\n",
       "      <td>4.3 and up</td>\n",
       "    </tr>\n",
       "    <tr>\n",
       "      <th>4521</th>\n",
       "      <td>Q-slope</td>\n",
       "      <td>TOOLS</td>\n",
       "      <td>4.5</td>\n",
       "      <td>2</td>\n",
       "      <td>3900.0</td>\n",
       "      <td>50+</td>\n",
       "      <td>Paid</td>\n",
       "      <td>1.76</td>\n",
       "      <td>Everyone</td>\n",
       "      <td>Tools</td>\n",
       "      <td>December 3, 2017</td>\n",
       "      <td>5.0</td>\n",
       "      <td>4.3 and up</td>\n",
       "    </tr>\n",
       "    <tr>\n",
       "      <th>2072</th>\n",
       "      <td>Thomas &amp; Friends: Race On!</td>\n",
       "      <td>FAMILY</td>\n",
       "      <td>4.1</td>\n",
       "      <td>29319</td>\n",
       "      <td>26000.0</td>\n",
       "      <td>5,000,000+</td>\n",
       "      <td>Free</td>\n",
       "      <td>0.00</td>\n",
       "      <td>Everyone</td>\n",
       "      <td>Casual;Action &amp; Adventure</td>\n",
       "      <td>May 18, 2018</td>\n",
       "      <td>2.4</td>\n",
       "      <td>4.4 and up</td>\n",
       "    </tr>\n",
       "    <tr>\n",
       "      <th>5871</th>\n",
       "      <td>AZ Lottery Players Club</td>\n",
       "      <td>FAMILY</td>\n",
       "      <td>4.2</td>\n",
       "      <td>97</td>\n",
       "      <td>8900.0</td>\n",
       "      <td>10,000+</td>\n",
       "      <td>Free</td>\n",
       "      <td>0.00</td>\n",
       "      <td>Everyone</td>\n",
       "      <td>Entertainment</td>\n",
       "      <td>July 9, 2018</td>\n",
       "      <td>2.0.0(9)</td>\n",
       "      <td>4.0.3 and up</td>\n",
       "    </tr>\n",
       "    <tr>\n",
       "      <th>4266</th>\n",
       "      <td>Harris J Lyrics</td>\n",
       "      <td>FAMILY</td>\n",
       "      <td>4.7</td>\n",
       "      <td>36</td>\n",
       "      <td>7100.0</td>\n",
       "      <td>1,000+</td>\n",
       "      <td>Free</td>\n",
       "      <td>0.00</td>\n",
       "      <td>Everyone</td>\n",
       "      <td>Entertainment</td>\n",
       "      <td>March 12, 2018</td>\n",
       "      <td>1.3</td>\n",
       "      <td>4.0.3 and up</td>\n",
       "    </tr>\n",
       "  </tbody>\n",
       "</table>\n",
       "</div>"
      ],
      "text/plain": [
       "                             App Category  Rating Reviews     Size  \\\n",
       "8095               Alpha Bank CY  FINANCE     4.7      39  20000.0   \n",
       "4521                     Q-slope    TOOLS     4.5       2   3900.0   \n",
       "2072  Thomas & Friends: Race On!   FAMILY     4.1   29319  26000.0   \n",
       "5871     AZ Lottery Players Club   FAMILY     4.2      97   8900.0   \n",
       "4266             Harris J Lyrics   FAMILY     4.7      36   7100.0   \n",
       "\n",
       "        Installs  Type  Price Content Rating                     Genres  \\\n",
       "8095      1,000+  Free   0.00       Everyone                    Finance   \n",
       "4521         50+  Paid   1.76       Everyone                      Tools   \n",
       "2072  5,000,000+  Free   0.00       Everyone  Casual;Action & Adventure   \n",
       "5871     10,000+  Free   0.00       Everyone              Entertainment   \n",
       "4266      1,000+  Free   0.00       Everyone              Entertainment   \n",
       "\n",
       "          Last Updated Current Ver   Android Ver  \n",
       "8095    March 20, 2018        1.11    4.3 and up  \n",
       "4521  December 3, 2017         5.0    4.3 and up  \n",
       "2072      May 18, 2018         2.4    4.4 and up  \n",
       "5871      July 9, 2018    2.0.0(9)  4.0.3 and up  \n",
       "4266    March 12, 2018         1.3  4.0.3 and up  "
      ]
     },
     "execution_count": 23,
     "metadata": {},
     "output_type": "execute_result"
    }
   ],
   "source": [
    "df.sample(5)"
   ]
  },
  {
   "cell_type": "code",
   "execution_count": 24,
   "id": "d6832492",
   "metadata": {},
   "outputs": [
    {
     "name": "stdout",
     "output_type": "stream",
     "text": [
      "<class 'pandas.core.frame.DataFrame'>\n",
      "Int64Index: 9366 entries, 0 to 10840\n",
      "Data columns (total 13 columns):\n",
      " #   Column          Non-Null Count  Dtype  \n",
      "---  ------          --------------  -----  \n",
      " 0   App             9366 non-null   object \n",
      " 1   Category        9366 non-null   object \n",
      " 2   Rating          9366 non-null   float64\n",
      " 3   Reviews         9366 non-null   object \n",
      " 4   Size            9366 non-null   float64\n",
      " 5   Installs        9366 non-null   object \n",
      " 6   Type            9366 non-null   object \n",
      " 7   Price           9366 non-null   float64\n",
      " 8   Content Rating  9366 non-null   object \n",
      " 9   Genres          9366 non-null   object \n",
      " 10  Last Updated    9366 non-null   object \n",
      " 11  Current Ver     9366 non-null   object \n",
      " 12  Android Ver     9366 non-null   object \n",
      "dtypes: float64(3), object(10)\n",
      "memory usage: 1.0+ MB\n"
     ]
    }
   ],
   "source": [
    "df.info()"
   ]
  },
  {
   "cell_type": "markdown",
   "id": "7fefcc52",
   "metadata": {},
   "source": [
    "#### Describe\n",
    "<p>Now Price Column will correct, we replace $ with \"empty space\" and convert into float</p>"
   ]
  },
  {
   "cell_type": "code",
   "execution_count": 25,
   "id": "c4390a35",
   "metadata": {},
   "outputs": [
    {
     "data": {
      "text/plain": [
       "0.00      8719\n",
       "2.99       114\n",
       "0.99       107\n",
       "4.99        70\n",
       "1.99        59\n",
       "          ... \n",
       "1.29         1\n",
       "299.99       1\n",
       "379.99       1\n",
       "37.99        1\n",
       "1.20         1\n",
       "Name: Price, Length: 73, dtype: int64"
      ]
     },
     "execution_count": 25,
     "metadata": {},
     "output_type": "execute_result"
    }
   ],
   "source": [
    "df[\"Price\"].value_counts()"
   ]
  },
  {
   "cell_type": "markdown",
   "id": "5c94a838",
   "metadata": {},
   "source": [
    "### Correcting  Installs Column"
   ]
  },
  {
   "cell_type": "code",
   "execution_count": 26,
   "id": "cb261447",
   "metadata": {},
   "outputs": [
    {
     "data": {
      "text/plain": [
       "1,000,000+        1577\n",
       "10,000,000+       1252\n",
       "100,000+          1150\n",
       "10,000+           1010\n",
       "5,000,000+         752\n",
       "1,000+             713\n",
       "500,000+           538\n",
       "50,000+            467\n",
       "5,000+             432\n",
       "100,000,000+       409\n",
       "100+               309\n",
       "50,000,000+        289\n",
       "500+               201\n",
       "500,000,000+        72\n",
       "10+                 69\n",
       "1,000,000,000+      58\n",
       "50+                 56\n",
       "5+                   9\n",
       "1+                   3\n",
       "Name: Installs, dtype: int64"
      ]
     },
     "execution_count": 26,
     "metadata": {},
     "output_type": "execute_result"
    }
   ],
   "source": [
    "df[\"Installs\"].value_counts()"
   ]
  },
  {
   "cell_type": "code",
   "execution_count": 27,
   "id": "54f32f3a",
   "metadata": {},
   "outputs": [],
   "source": [
    "def filter_installs(x):\n",
    "    x = float(x.replace(\",\",\"\").replace(\"+\",\"\"))\n",
    "    return x\n",
    "\n",
    "df[\"Installs\"] = df[\"Installs\"].apply(filter_installs)\n"
   ]
  },
  {
   "cell_type": "code",
   "execution_count": 28,
   "id": "b933cd98",
   "metadata": {},
   "outputs": [
    {
     "data": {
      "text/html": [
       "<div>\n",
       "<style scoped>\n",
       "    .dataframe tbody tr th:only-of-type {\n",
       "        vertical-align: middle;\n",
       "    }\n",
       "\n",
       "    .dataframe tbody tr th {\n",
       "        vertical-align: top;\n",
       "    }\n",
       "\n",
       "    .dataframe thead th {\n",
       "        text-align: right;\n",
       "    }\n",
       "</style>\n",
       "<table border=\"1\" class=\"dataframe\">\n",
       "  <thead>\n",
       "    <tr style=\"text-align: right;\">\n",
       "      <th></th>\n",
       "      <th>App</th>\n",
       "      <th>Category</th>\n",
       "      <th>Rating</th>\n",
       "      <th>Reviews</th>\n",
       "      <th>Size</th>\n",
       "      <th>Installs</th>\n",
       "      <th>Type</th>\n",
       "      <th>Price</th>\n",
       "      <th>Content Rating</th>\n",
       "      <th>Genres</th>\n",
       "      <th>Last Updated</th>\n",
       "      <th>Current Ver</th>\n",
       "      <th>Android Ver</th>\n",
       "    </tr>\n",
       "  </thead>\n",
       "  <tbody>\n",
       "    <tr>\n",
       "      <th>5849</th>\n",
       "      <td>Lunar Calendar Lite</td>\n",
       "      <td>LIFESTYLE</td>\n",
       "      <td>4.1</td>\n",
       "      <td>2954</td>\n",
       "      <td>21516.529524</td>\n",
       "      <td>100000.0</td>\n",
       "      <td>Free</td>\n",
       "      <td>0.0</td>\n",
       "      <td>Mature 17+</td>\n",
       "      <td>Lifestyle</td>\n",
       "      <td>July 17, 2018</td>\n",
       "      <td>Varies with device</td>\n",
       "      <td>Varies with device</td>\n",
       "    </tr>\n",
       "    <tr>\n",
       "      <th>6585</th>\n",
       "      <td>Blood Pressure</td>\n",
       "      <td>MEDICAL</td>\n",
       "      <td>4.2</td>\n",
       "      <td>33033</td>\n",
       "      <td>7400.000000</td>\n",
       "      <td>5000000.0</td>\n",
       "      <td>Free</td>\n",
       "      <td>0.0</td>\n",
       "      <td>Everyone</td>\n",
       "      <td>Medical</td>\n",
       "      <td>July 24, 2018</td>\n",
       "      <td>3.27.3</td>\n",
       "      <td>4.1 and up</td>\n",
       "    </tr>\n",
       "    <tr>\n",
       "      <th>9724</th>\n",
       "      <td>EP Gem Hunter</td>\n",
       "      <td>GAME</td>\n",
       "      <td>4.6</td>\n",
       "      <td>79</td>\n",
       "      <td>31000.000000</td>\n",
       "      <td>1000.0</td>\n",
       "      <td>Free</td>\n",
       "      <td>0.0</td>\n",
       "      <td>Everyone 10+</td>\n",
       "      <td>Action</td>\n",
       "      <td>January 17, 2016</td>\n",
       "      <td>1.1.0</td>\n",
       "      <td>2.3 and up</td>\n",
       "    </tr>\n",
       "    <tr>\n",
       "      <th>2367</th>\n",
       "      <td>mySugr: the blood sugar tracker made just for you</td>\n",
       "      <td>MEDICAL</td>\n",
       "      <td>4.6</td>\n",
       "      <td>21189</td>\n",
       "      <td>36000.000000</td>\n",
       "      <td>1000000.0</td>\n",
       "      <td>Free</td>\n",
       "      <td>0.0</td>\n",
       "      <td>Everyone</td>\n",
       "      <td>Medical</td>\n",
       "      <td>August 6, 2018</td>\n",
       "      <td>3.52.1</td>\n",
       "      <td>5.0 and up</td>\n",
       "    </tr>\n",
       "    <tr>\n",
       "      <th>1083</th>\n",
       "      <td>Google Pay</td>\n",
       "      <td>FINANCE</td>\n",
       "      <td>4.2</td>\n",
       "      <td>347838</td>\n",
       "      <td>21516.529524</td>\n",
       "      <td>100000000.0</td>\n",
       "      <td>Free</td>\n",
       "      <td>0.0</td>\n",
       "      <td>Everyone</td>\n",
       "      <td>Finance</td>\n",
       "      <td>July 26, 2018</td>\n",
       "      <td>2.70.206190089</td>\n",
       "      <td>Varies with device</td>\n",
       "    </tr>\n",
       "  </tbody>\n",
       "</table>\n",
       "</div>"
      ],
      "text/plain": [
       "                                                    App   Category  Rating  \\\n",
       "5849                                Lunar Calendar Lite  LIFESTYLE     4.1   \n",
       "6585                                     Blood Pressure    MEDICAL     4.2   \n",
       "9724                                      EP Gem Hunter       GAME     4.6   \n",
       "2367  mySugr: the blood sugar tracker made just for you    MEDICAL     4.6   \n",
       "1083                                         Google Pay    FINANCE     4.2   \n",
       "\n",
       "     Reviews          Size     Installs  Type  Price Content Rating  \\\n",
       "5849    2954  21516.529524     100000.0  Free    0.0     Mature 17+   \n",
       "6585   33033   7400.000000    5000000.0  Free    0.0       Everyone   \n",
       "9724      79  31000.000000       1000.0  Free    0.0   Everyone 10+   \n",
       "2367   21189  36000.000000    1000000.0  Free    0.0       Everyone   \n",
       "1083  347838  21516.529524  100000000.0  Free    0.0       Everyone   \n",
       "\n",
       "         Genres      Last Updated         Current Ver         Android Ver  \n",
       "5849  Lifestyle     July 17, 2018  Varies with device  Varies with device  \n",
       "6585    Medical     July 24, 2018              3.27.3          4.1 and up  \n",
       "9724     Action  January 17, 2016               1.1.0          2.3 and up  \n",
       "2367    Medical    August 6, 2018              3.52.1          5.0 and up  \n",
       "1083    Finance     July 26, 2018      2.70.206190089  Varies with device  "
      ]
     },
     "execution_count": 28,
     "metadata": {},
     "output_type": "execute_result"
    }
   ],
   "source": [
    "df.sample(5)"
   ]
  },
  {
   "cell_type": "code",
   "execution_count": 29,
   "id": "851efb64",
   "metadata": {},
   "outputs": [
    {
     "data": {
      "text/plain": [
       "count    9.366000e+03\n",
       "mean     1.789744e+07\n",
       "std      9.123822e+07\n",
       "min      1.000000e+00\n",
       "25%      1.000000e+04\n",
       "50%      5.000000e+05\n",
       "75%      5.000000e+06\n",
       "max      1.000000e+09\n",
       "Name: Installs, dtype: float64"
      ]
     },
     "execution_count": 29,
     "metadata": {},
     "output_type": "execute_result"
    }
   ],
   "source": [
    "df[\"Installs\"].describe()"
   ]
  },
  {
   "cell_type": "code",
   "execution_count": null,
   "id": "0af35801",
   "metadata": {},
   "outputs": [],
   "source": []
  },
  {
   "cell_type": "code",
   "execution_count": null,
   "id": "9276a225",
   "metadata": {},
   "outputs": [],
   "source": []
  },
  {
   "cell_type": "code",
   "execution_count": null,
   "id": "81a4d854",
   "metadata": {},
   "outputs": [],
   "source": []
  },
  {
   "cell_type": "code",
   "execution_count": null,
   "id": "272a328c",
   "metadata": {},
   "outputs": [],
   "source": []
  },
  {
   "cell_type": "code",
   "execution_count": null,
   "id": "2756d3f9",
   "metadata": {},
   "outputs": [],
   "source": []
  }
 ],
 "metadata": {
  "kernelspec": {
   "display_name": "Python 3 (ipykernel)",
   "language": "python",
   "name": "python3"
  },
  "language_info": {
   "codemirror_mode": {
    "name": "ipython",
    "version": 3
   },
   "file_extension": ".py",
   "mimetype": "text/x-python",
   "name": "python",
   "nbconvert_exporter": "python",
   "pygments_lexer": "ipython3",
   "version": "3.9.7"
  }
 },
 "nbformat": 4,
 "nbformat_minor": 5
}
