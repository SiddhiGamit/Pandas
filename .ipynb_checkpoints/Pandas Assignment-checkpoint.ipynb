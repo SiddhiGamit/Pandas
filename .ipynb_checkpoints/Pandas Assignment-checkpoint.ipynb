{
 "cells": [
  {
   "cell_type": "code",
   "execution_count": 1,
   "id": "a483de54",
   "metadata": {},
   "outputs": [],
   "source": [
    "import pandas as pd"
   ]
  },
  {
   "cell_type": "markdown",
   "id": "cd9fdb9c",
   "metadata": {},
   "source": [
    "2.\tWrite a program to concat two DataFrames.  "
   ]
  },
  {
   "cell_type": "code",
   "execution_count": 11,
   "id": "ce307114",
   "metadata": {},
   "outputs": [
    {
     "name": "stdout",
     "output_type": "stream",
     "text": [
      "     Name  Age\n",
      "0    Piya   15\n",
      "1    Jiya   16\n",
      "2    Riya   17\n",
      "0  Shakti   22\n",
      "1   Mukti   24\n",
      "2  Bhakti   26\n"
     ]
    }
   ],
   "source": [
    "df1 = pd.DataFrame(\n",
    " {\n",
    "    'Name' : ['Piya', 'Jiya', 'Riya'],\n",
    "    'Age' : [15, 16, 17]\n",
    "})\n",
    "\n",
    "df2 = pd.DataFrame({\n",
    "    'Name' : ['Shakti', 'Mukti', 'Bhakti'],\n",
    "    'Age' : [22, 24, 26]\n",
    "})\n",
    "df3 = [df1 , df2]\n",
    "\n",
    "df = pd.concat(df3)\n",
    "print(df)"
   ]
  },
  {
   "cell_type": "code",
   "execution_count": null,
   "id": "7d462017",
   "metadata": {},
   "outputs": [],
   "source": []
  }
 ],
 "metadata": {
  "kernelspec": {
   "display_name": "Python 3 (ipykernel)",
   "language": "python",
   "name": "python3"
  },
  "language_info": {
   "codemirror_mode": {
    "name": "ipython",
    "version": 3
   },
   "file_extension": ".py",
   "mimetype": "text/x-python",
   "name": "python",
   "nbconvert_exporter": "python",
   "pygments_lexer": "ipython3",
   "version": "3.9.7"
  }
 },
 "nbformat": 4,
 "nbformat_minor": 5
}
