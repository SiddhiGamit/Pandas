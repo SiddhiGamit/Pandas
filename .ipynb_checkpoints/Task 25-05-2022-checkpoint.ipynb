{
 "cells": [
  {
   "cell_type": "markdown",
   "id": "d3f6d504",
   "metadata": {},
   "source": [
    "Create 4 Columns 'Price', 'Product Count', 'Product Name' , 'DOS', \"sales'\n",
    "\n",
    "Price have $ sign no null values <br>\n",
    "Product counts have with , values 50,000 no null values <br>\n",
    "product name value 3 null values np.nan  <br>\n",
    "Date of Sales sting 10 (10/11/2022) no null <br>\n",
    "sales 10 data and 3 missing vlues  np.nan ( numeric values ) <br>\n"
   ]
  },
  {
   "cell_type": "code",
   "execution_count": 100,
   "id": "c2367454",
   "metadata": {},
   "outputs": [],
   "source": [
    "import numpy as np\n",
    "import pandas as pd"
   ]
  },
  {
   "cell_type": "code",
   "execution_count": 101,
   "id": "28229ac9",
   "metadata": {},
   "outputs": [
    {
     "data": {
      "text/html": [
       "<div>\n",
       "<style scoped>\n",
       "    .dataframe tbody tr th:only-of-type {\n",
       "        vertical-align: middle;\n",
       "    }\n",
       "\n",
       "    .dataframe tbody tr th {\n",
       "        vertical-align: top;\n",
       "    }\n",
       "\n",
       "    .dataframe thead th {\n",
       "        text-align: right;\n",
       "    }\n",
       "</style>\n",
       "<table border=\"1\" class=\"dataframe\">\n",
       "  <thead>\n",
       "    <tr style=\"text-align: right;\">\n",
       "      <th></th>\n",
       "      <th>price</th>\n",
       "      <th>product count</th>\n",
       "      <th>Product Name</th>\n",
       "      <th>DOS</th>\n",
       "      <th>Sales</th>\n",
       "    </tr>\n",
       "  </thead>\n",
       "  <tbody>\n",
       "    <tr>\n",
       "      <th>0</th>\n",
       "      <td>$100</td>\n",
       "      <td>50,000</td>\n",
       "      <td>test1</td>\n",
       "      <td>15/07/2022</td>\n",
       "      <td>10.0</td>\n",
       "    </tr>\n",
       "    <tr>\n",
       "      <th>1</th>\n",
       "      <td>$200</td>\n",
       "      <td>1000</td>\n",
       "      <td>test2</td>\n",
       "      <td>15/07/2022</td>\n",
       "      <td>20.0</td>\n",
       "    </tr>\n",
       "    <tr>\n",
       "      <th>2</th>\n",
       "      <td>$300</td>\n",
       "      <td>10,100</td>\n",
       "      <td>NaN</td>\n",
       "      <td>15/07/2022</td>\n",
       "      <td>30.0</td>\n",
       "    </tr>\n",
       "    <tr>\n",
       "      <th>3</th>\n",
       "      <td>$400</td>\n",
       "      <td>20,000</td>\n",
       "      <td>test3</td>\n",
       "      <td>15/07/2022</td>\n",
       "      <td>22.0</td>\n",
       "    </tr>\n",
       "    <tr>\n",
       "      <th>4</th>\n",
       "      <td>$500</td>\n",
       "      <td>1000</td>\n",
       "      <td>test4</td>\n",
       "      <td>15/07/2022</td>\n",
       "      <td>44.0</td>\n",
       "    </tr>\n",
       "    <tr>\n",
       "      <th>5</th>\n",
       "      <td>$600</td>\n",
       "      <td>30,000</td>\n",
       "      <td>test5</td>\n",
       "      <td>15/07/2022</td>\n",
       "      <td>55.0</td>\n",
       "    </tr>\n",
       "    <tr>\n",
       "      <th>6</th>\n",
       "      <td>$200</td>\n",
       "      <td>3000</td>\n",
       "      <td>NaN</td>\n",
       "      <td>15/07/2022</td>\n",
       "      <td>NaN</td>\n",
       "    </tr>\n",
       "    <tr>\n",
       "      <th>7</th>\n",
       "      <td>$100</td>\n",
       "      <td>20000</td>\n",
       "      <td>NaN</td>\n",
       "      <td>15/07/2022</td>\n",
       "      <td>NaN</td>\n",
       "    </tr>\n",
       "    <tr>\n",
       "      <th>8</th>\n",
       "      <td>$200</td>\n",
       "      <td>10,000</td>\n",
       "      <td>test6</td>\n",
       "      <td>15/07/2022</td>\n",
       "      <td>11.0</td>\n",
       "    </tr>\n",
       "    <tr>\n",
       "      <th>9</th>\n",
       "      <td>$100</td>\n",
       "      <td>2000</td>\n",
       "      <td>test7</td>\n",
       "      <td>15/07/2022</td>\n",
       "      <td>NaN</td>\n",
       "    </tr>\n",
       "  </tbody>\n",
       "</table>\n",
       "</div>"
      ],
      "text/plain": [
       "  price product count Product Name         DOS  Sales\n",
       "0  $100        50,000        test1  15/07/2022   10.0\n",
       "1  $200          1000        test2  15/07/2022   20.0\n",
       "2  $300        10,100          NaN  15/07/2022   30.0\n",
       "3  $400        20,000        test3  15/07/2022   22.0\n",
       "4  $500          1000        test4  15/07/2022   44.0\n",
       "5  $600        30,000        test5  15/07/2022   55.0\n",
       "6  $200          3000          NaN  15/07/2022    NaN\n",
       "7  $100         20000          NaN  15/07/2022    NaN\n",
       "8  $200        10,000        test6  15/07/2022   11.0\n",
       "9  $100          2000        test7  15/07/2022    NaN"
      ]
     },
     "execution_count": 101,
     "metadata": {},
     "output_type": "execute_result"
    }
   ],
   "source": [
    "data = {\n",
    "    'price' : [\"$100\",\"$200\",\"$300\",\"$400\",\"$500\",\"$600\",\"$200\",\"$100\",\"$200\",\"$100\"],\n",
    "    'product count' : [\"50,000\",\"1000\",\"10,100\",\"20,000\",\"1000\",\"30,000\",\"3000\",\"20000\",\"10,000\",\"2000\"],\n",
    "    'Product Name' : [\"test1\",\"test2\",np.nan,\"test3\",\"test4\",\"test5\",np.nan,np.nan,\"test6\",\"test7\"],\n",
    "    'DOS' : [\"15/07/2022\",\"15/07/2022\",\"15/07/2022\",\"15/07/2022\",\"15/07/2022\",\"15/07/2022\",\"15/07/2022\",\"15/07/2022\",\"15/07/2022\",\"15/07/2022\"],\n",
    "    'Sales': [10,20,30,22,44,55,np.nan,np.nan,11,np.nan]\n",
    "}\n",
    "\n",
    "df = pd.DataFrame(data)\n",
    "df"
   ]
  },
  {
   "cell_type": "code",
   "execution_count": 102,
   "id": "4c8b3daa",
   "metadata": {},
   "outputs": [
    {
     "data": {
      "text/plain": [
       "price             object\n",
       "product count     object\n",
       "Product Name      object\n",
       "DOS               object\n",
       "Sales            float64\n",
       "dtype: object"
      ]
     },
     "execution_count": 102,
     "metadata": {},
     "output_type": "execute_result"
    }
   ],
   "source": [
    "df.dtypes"
   ]
  },
  {
   "cell_type": "code",
   "execution_count": 103,
   "id": "a36aeaa5",
   "metadata": {},
   "outputs": [],
   "source": [
    "def filter_product_count(x):\n",
    "    x = float(x.replace(',',''));\n",
    "    return x\n",
    "\n",
    "df[\"product count\"] = df[\"product count\"].apply(filter_product_count)"
   ]
  },
  {
   "cell_type": "code",
   "execution_count": 104,
   "id": "eaf5b4f6",
   "metadata": {},
   "outputs": [
    {
     "data": {
      "text/html": [
       "<div>\n",
       "<style scoped>\n",
       "    .dataframe tbody tr th:only-of-type {\n",
       "        vertical-align: middle;\n",
       "    }\n",
       "\n",
       "    .dataframe tbody tr th {\n",
       "        vertical-align: top;\n",
       "    }\n",
       "\n",
       "    .dataframe thead th {\n",
       "        text-align: right;\n",
       "    }\n",
       "</style>\n",
       "<table border=\"1\" class=\"dataframe\">\n",
       "  <thead>\n",
       "    <tr style=\"text-align: right;\">\n",
       "      <th></th>\n",
       "      <th>price</th>\n",
       "      <th>product count</th>\n",
       "      <th>Product Name</th>\n",
       "      <th>DOS</th>\n",
       "      <th>Sales</th>\n",
       "    </tr>\n",
       "  </thead>\n",
       "  <tbody>\n",
       "    <tr>\n",
       "      <th>0</th>\n",
       "      <td>$100</td>\n",
       "      <td>50000.0</td>\n",
       "      <td>test1</td>\n",
       "      <td>15/07/2022</td>\n",
       "      <td>10.0</td>\n",
       "    </tr>\n",
       "    <tr>\n",
       "      <th>1</th>\n",
       "      <td>$200</td>\n",
       "      <td>1000.0</td>\n",
       "      <td>test2</td>\n",
       "      <td>15/07/2022</td>\n",
       "      <td>20.0</td>\n",
       "    </tr>\n",
       "    <tr>\n",
       "      <th>2</th>\n",
       "      <td>$300</td>\n",
       "      <td>10100.0</td>\n",
       "      <td>NaN</td>\n",
       "      <td>15/07/2022</td>\n",
       "      <td>30.0</td>\n",
       "    </tr>\n",
       "    <tr>\n",
       "      <th>3</th>\n",
       "      <td>$400</td>\n",
       "      <td>20000.0</td>\n",
       "      <td>test3</td>\n",
       "      <td>15/07/2022</td>\n",
       "      <td>22.0</td>\n",
       "    </tr>\n",
       "    <tr>\n",
       "      <th>4</th>\n",
       "      <td>$500</td>\n",
       "      <td>1000.0</td>\n",
       "      <td>test4</td>\n",
       "      <td>15/07/2022</td>\n",
       "      <td>44.0</td>\n",
       "    </tr>\n",
       "    <tr>\n",
       "      <th>5</th>\n",
       "      <td>$600</td>\n",
       "      <td>30000.0</td>\n",
       "      <td>test5</td>\n",
       "      <td>15/07/2022</td>\n",
       "      <td>55.0</td>\n",
       "    </tr>\n",
       "    <tr>\n",
       "      <th>6</th>\n",
       "      <td>$200</td>\n",
       "      <td>3000.0</td>\n",
       "      <td>NaN</td>\n",
       "      <td>15/07/2022</td>\n",
       "      <td>NaN</td>\n",
       "    </tr>\n",
       "    <tr>\n",
       "      <th>7</th>\n",
       "      <td>$100</td>\n",
       "      <td>20000.0</td>\n",
       "      <td>NaN</td>\n",
       "      <td>15/07/2022</td>\n",
       "      <td>NaN</td>\n",
       "    </tr>\n",
       "    <tr>\n",
       "      <th>8</th>\n",
       "      <td>$200</td>\n",
       "      <td>10000.0</td>\n",
       "      <td>test6</td>\n",
       "      <td>15/07/2022</td>\n",
       "      <td>11.0</td>\n",
       "    </tr>\n",
       "    <tr>\n",
       "      <th>9</th>\n",
       "      <td>$100</td>\n",
       "      <td>2000.0</td>\n",
       "      <td>test7</td>\n",
       "      <td>15/07/2022</td>\n",
       "      <td>NaN</td>\n",
       "    </tr>\n",
       "  </tbody>\n",
       "</table>\n",
       "</div>"
      ],
      "text/plain": [
       "  price  product count Product Name         DOS  Sales\n",
       "0  $100        50000.0        test1  15/07/2022   10.0\n",
       "1  $200         1000.0        test2  15/07/2022   20.0\n",
       "2  $300        10100.0          NaN  15/07/2022   30.0\n",
       "3  $400        20000.0        test3  15/07/2022   22.0\n",
       "4  $500         1000.0        test4  15/07/2022   44.0\n",
       "5  $600        30000.0        test5  15/07/2022   55.0\n",
       "6  $200         3000.0          NaN  15/07/2022    NaN\n",
       "7  $100        20000.0          NaN  15/07/2022    NaN\n",
       "8  $200        10000.0        test6  15/07/2022   11.0\n",
       "9  $100         2000.0        test7  15/07/2022    NaN"
      ]
     },
     "execution_count": 104,
     "metadata": {},
     "output_type": "execute_result"
    }
   ],
   "source": [
    "df"
   ]
  },
  {
   "cell_type": "code",
   "execution_count": 105,
   "id": "361c4e8b",
   "metadata": {},
   "outputs": [],
   "source": [
    "def filter_price(x):\n",
    "    x = float(x.replace('$',''));\n",
    "    return x\n",
    "\n",
    "df[\"price\"] = df[\"price\"].apply(filter_price)"
   ]
  },
  {
   "cell_type": "code",
   "execution_count": 106,
   "id": "68ef3291",
   "metadata": {},
   "outputs": [
    {
     "data": {
      "text/html": [
       "<div>\n",
       "<style scoped>\n",
       "    .dataframe tbody tr th:only-of-type {\n",
       "        vertical-align: middle;\n",
       "    }\n",
       "\n",
       "    .dataframe tbody tr th {\n",
       "        vertical-align: top;\n",
       "    }\n",
       "\n",
       "    .dataframe thead th {\n",
       "        text-align: right;\n",
       "    }\n",
       "</style>\n",
       "<table border=\"1\" class=\"dataframe\">\n",
       "  <thead>\n",
       "    <tr style=\"text-align: right;\">\n",
       "      <th></th>\n",
       "      <th>price</th>\n",
       "      <th>product count</th>\n",
       "      <th>Product Name</th>\n",
       "      <th>DOS</th>\n",
       "      <th>Sales</th>\n",
       "    </tr>\n",
       "  </thead>\n",
       "  <tbody>\n",
       "    <tr>\n",
       "      <th>0</th>\n",
       "      <td>100.0</td>\n",
       "      <td>50000.0</td>\n",
       "      <td>test1</td>\n",
       "      <td>15/07/2022</td>\n",
       "      <td>10.0</td>\n",
       "    </tr>\n",
       "    <tr>\n",
       "      <th>1</th>\n",
       "      <td>200.0</td>\n",
       "      <td>1000.0</td>\n",
       "      <td>test2</td>\n",
       "      <td>15/07/2022</td>\n",
       "      <td>20.0</td>\n",
       "    </tr>\n",
       "    <tr>\n",
       "      <th>2</th>\n",
       "      <td>300.0</td>\n",
       "      <td>10100.0</td>\n",
       "      <td>NaN</td>\n",
       "      <td>15/07/2022</td>\n",
       "      <td>30.0</td>\n",
       "    </tr>\n",
       "    <tr>\n",
       "      <th>3</th>\n",
       "      <td>400.0</td>\n",
       "      <td>20000.0</td>\n",
       "      <td>test3</td>\n",
       "      <td>15/07/2022</td>\n",
       "      <td>22.0</td>\n",
       "    </tr>\n",
       "    <tr>\n",
       "      <th>4</th>\n",
       "      <td>500.0</td>\n",
       "      <td>1000.0</td>\n",
       "      <td>test4</td>\n",
       "      <td>15/07/2022</td>\n",
       "      <td>44.0</td>\n",
       "    </tr>\n",
       "    <tr>\n",
       "      <th>5</th>\n",
       "      <td>600.0</td>\n",
       "      <td>30000.0</td>\n",
       "      <td>test5</td>\n",
       "      <td>15/07/2022</td>\n",
       "      <td>55.0</td>\n",
       "    </tr>\n",
       "    <tr>\n",
       "      <th>6</th>\n",
       "      <td>200.0</td>\n",
       "      <td>3000.0</td>\n",
       "      <td>NaN</td>\n",
       "      <td>15/07/2022</td>\n",
       "      <td>NaN</td>\n",
       "    </tr>\n",
       "    <tr>\n",
       "      <th>7</th>\n",
       "      <td>100.0</td>\n",
       "      <td>20000.0</td>\n",
       "      <td>NaN</td>\n",
       "      <td>15/07/2022</td>\n",
       "      <td>NaN</td>\n",
       "    </tr>\n",
       "    <tr>\n",
       "      <th>8</th>\n",
       "      <td>200.0</td>\n",
       "      <td>10000.0</td>\n",
       "      <td>test6</td>\n",
       "      <td>15/07/2022</td>\n",
       "      <td>11.0</td>\n",
       "    </tr>\n",
       "    <tr>\n",
       "      <th>9</th>\n",
       "      <td>100.0</td>\n",
       "      <td>2000.0</td>\n",
       "      <td>test7</td>\n",
       "      <td>15/07/2022</td>\n",
       "      <td>NaN</td>\n",
       "    </tr>\n",
       "  </tbody>\n",
       "</table>\n",
       "</div>"
      ],
      "text/plain": [
       "   price  product count Product Name         DOS  Sales\n",
       "0  100.0        50000.0        test1  15/07/2022   10.0\n",
       "1  200.0         1000.0        test2  15/07/2022   20.0\n",
       "2  300.0        10100.0          NaN  15/07/2022   30.0\n",
       "3  400.0        20000.0        test3  15/07/2022   22.0\n",
       "4  500.0         1000.0        test4  15/07/2022   44.0\n",
       "5  600.0        30000.0        test5  15/07/2022   55.0\n",
       "6  200.0         3000.0          NaN  15/07/2022    NaN\n",
       "7  100.0        20000.0          NaN  15/07/2022    NaN\n",
       "8  200.0        10000.0        test6  15/07/2022   11.0\n",
       "9  100.0         2000.0        test7  15/07/2022    NaN"
      ]
     },
     "execution_count": 106,
     "metadata": {},
     "output_type": "execute_result"
    }
   ],
   "source": [
    "df"
   ]
  },
  {
   "cell_type": "code",
   "execution_count": 107,
   "id": "5372591f",
   "metadata": {},
   "outputs": [
    {
     "data": {
      "text/plain": [
       "price            float64\n",
       "product count    float64\n",
       "Product Name      object\n",
       "DOS               object\n",
       "Sales            float64\n",
       "dtype: object"
      ]
     },
     "execution_count": 107,
     "metadata": {},
     "output_type": "execute_result"
    }
   ],
   "source": [
    "df.dtypes"
   ]
  },
  {
   "cell_type": "code",
   "execution_count": 108,
   "id": "ff49dd04",
   "metadata": {},
   "outputs": [
    {
     "data": {
      "text/html": [
       "<div>\n",
       "<style scoped>\n",
       "    .dataframe tbody tr th:only-of-type {\n",
       "        vertical-align: middle;\n",
       "    }\n",
       "\n",
       "    .dataframe tbody tr th {\n",
       "        vertical-align: top;\n",
       "    }\n",
       "\n",
       "    .dataframe thead th {\n",
       "        text-align: right;\n",
       "    }\n",
       "</style>\n",
       "<table border=\"1\" class=\"dataframe\">\n",
       "  <thead>\n",
       "    <tr style=\"text-align: right;\">\n",
       "      <th></th>\n",
       "      <th>price</th>\n",
       "      <th>product count</th>\n",
       "      <th>Product Name</th>\n",
       "      <th>DOS</th>\n",
       "      <th>Sales</th>\n",
       "    </tr>\n",
       "  </thead>\n",
       "  <tbody>\n",
       "    <tr>\n",
       "      <th>0</th>\n",
       "      <td>100.0</td>\n",
       "      <td>50000.0</td>\n",
       "      <td>test1</td>\n",
       "      <td>2022-07-15</td>\n",
       "      <td>10.0</td>\n",
       "    </tr>\n",
       "    <tr>\n",
       "      <th>1</th>\n",
       "      <td>200.0</td>\n",
       "      <td>1000.0</td>\n",
       "      <td>test2</td>\n",
       "      <td>2022-07-15</td>\n",
       "      <td>20.0</td>\n",
       "    </tr>\n",
       "    <tr>\n",
       "      <th>2</th>\n",
       "      <td>300.0</td>\n",
       "      <td>10100.0</td>\n",
       "      <td>NaN</td>\n",
       "      <td>2022-07-15</td>\n",
       "      <td>30.0</td>\n",
       "    </tr>\n",
       "    <tr>\n",
       "      <th>3</th>\n",
       "      <td>400.0</td>\n",
       "      <td>20000.0</td>\n",
       "      <td>test3</td>\n",
       "      <td>2022-07-15</td>\n",
       "      <td>22.0</td>\n",
       "    </tr>\n",
       "    <tr>\n",
       "      <th>4</th>\n",
       "      <td>500.0</td>\n",
       "      <td>1000.0</td>\n",
       "      <td>test4</td>\n",
       "      <td>2022-07-15</td>\n",
       "      <td>44.0</td>\n",
       "    </tr>\n",
       "    <tr>\n",
       "      <th>5</th>\n",
       "      <td>600.0</td>\n",
       "      <td>30000.0</td>\n",
       "      <td>test5</td>\n",
       "      <td>2022-07-15</td>\n",
       "      <td>55.0</td>\n",
       "    </tr>\n",
       "    <tr>\n",
       "      <th>6</th>\n",
       "      <td>200.0</td>\n",
       "      <td>3000.0</td>\n",
       "      <td>NaN</td>\n",
       "      <td>2022-07-15</td>\n",
       "      <td>NaN</td>\n",
       "    </tr>\n",
       "    <tr>\n",
       "      <th>7</th>\n",
       "      <td>100.0</td>\n",
       "      <td>20000.0</td>\n",
       "      <td>NaN</td>\n",
       "      <td>2022-07-15</td>\n",
       "      <td>NaN</td>\n",
       "    </tr>\n",
       "    <tr>\n",
       "      <th>8</th>\n",
       "      <td>200.0</td>\n",
       "      <td>10000.0</td>\n",
       "      <td>test6</td>\n",
       "      <td>2022-07-15</td>\n",
       "      <td>11.0</td>\n",
       "    </tr>\n",
       "    <tr>\n",
       "      <th>9</th>\n",
       "      <td>100.0</td>\n",
       "      <td>2000.0</td>\n",
       "      <td>test7</td>\n",
       "      <td>2022-07-15</td>\n",
       "      <td>NaN</td>\n",
       "    </tr>\n",
       "  </tbody>\n",
       "</table>\n",
       "</div>"
      ],
      "text/plain": [
       "   price  product count Product Name        DOS  Sales\n",
       "0  100.0        50000.0        test1 2022-07-15   10.0\n",
       "1  200.0         1000.0        test2 2022-07-15   20.0\n",
       "2  300.0        10100.0          NaN 2022-07-15   30.0\n",
       "3  400.0        20000.0        test3 2022-07-15   22.0\n",
       "4  500.0         1000.0        test4 2022-07-15   44.0\n",
       "5  600.0        30000.0        test5 2022-07-15   55.0\n",
       "6  200.0         3000.0          NaN 2022-07-15    NaN\n",
       "7  100.0        20000.0          NaN 2022-07-15    NaN\n",
       "8  200.0        10000.0        test6 2022-07-15   11.0\n",
       "9  100.0         2000.0        test7 2022-07-15    NaN"
      ]
     },
     "execution_count": 108,
     "metadata": {},
     "output_type": "execute_result"
    }
   ],
   "source": [
    "# Convert Date times\n",
    "\n",
    "df[\"DOS\"] = pd.to_datetime(df[\"DOS\"])\n",
    "df"
   ]
  },
  {
   "cell_type": "code",
   "execution_count": 109,
   "id": "4a0f2215",
   "metadata": {},
   "outputs": [
    {
     "data": {
      "text/plain": [
       "price                   float64\n",
       "product count           float64\n",
       "Product Name             object\n",
       "DOS              datetime64[ns]\n",
       "Sales                   float64\n",
       "dtype: object"
      ]
     },
     "execution_count": 109,
     "metadata": {},
     "output_type": "execute_result"
    }
   ],
   "source": [
    "df.dtypes"
   ]
  },
  {
   "cell_type": "markdown",
   "id": "a8937bbb",
   "metadata": {},
   "source": [
    "## Fill null values"
   ]
  },
  {
   "cell_type": "code",
   "execution_count": 110,
   "id": "c5a75f0c",
   "metadata": {},
   "outputs": [],
   "source": [
    "# Sales \n",
    "df[\"Sales\"] = df[\"Sales\"].fillna(df[\"Sales\"].mean())"
   ]
  },
  {
   "cell_type": "code",
   "execution_count": 111,
   "id": "b7bba694",
   "metadata": {},
   "outputs": [
    {
     "data": {
      "text/html": [
       "<div>\n",
       "<style scoped>\n",
       "    .dataframe tbody tr th:only-of-type {\n",
       "        vertical-align: middle;\n",
       "    }\n",
       "\n",
       "    .dataframe tbody tr th {\n",
       "        vertical-align: top;\n",
       "    }\n",
       "\n",
       "    .dataframe thead th {\n",
       "        text-align: right;\n",
       "    }\n",
       "</style>\n",
       "<table border=\"1\" class=\"dataframe\">\n",
       "  <thead>\n",
       "    <tr style=\"text-align: right;\">\n",
       "      <th></th>\n",
       "      <th>price</th>\n",
       "      <th>product count</th>\n",
       "      <th>Product Name</th>\n",
       "      <th>DOS</th>\n",
       "      <th>Sales</th>\n",
       "    </tr>\n",
       "  </thead>\n",
       "  <tbody>\n",
       "    <tr>\n",
       "      <th>0</th>\n",
       "      <td>100.0</td>\n",
       "      <td>50000.0</td>\n",
       "      <td>test1</td>\n",
       "      <td>2022-07-15</td>\n",
       "      <td>10.000000</td>\n",
       "    </tr>\n",
       "    <tr>\n",
       "      <th>1</th>\n",
       "      <td>200.0</td>\n",
       "      <td>1000.0</td>\n",
       "      <td>test2</td>\n",
       "      <td>2022-07-15</td>\n",
       "      <td>20.000000</td>\n",
       "    </tr>\n",
       "    <tr>\n",
       "      <th>2</th>\n",
       "      <td>300.0</td>\n",
       "      <td>10100.0</td>\n",
       "      <td>NaN</td>\n",
       "      <td>2022-07-15</td>\n",
       "      <td>30.000000</td>\n",
       "    </tr>\n",
       "    <tr>\n",
       "      <th>3</th>\n",
       "      <td>400.0</td>\n",
       "      <td>20000.0</td>\n",
       "      <td>test3</td>\n",
       "      <td>2022-07-15</td>\n",
       "      <td>22.000000</td>\n",
       "    </tr>\n",
       "    <tr>\n",
       "      <th>4</th>\n",
       "      <td>500.0</td>\n",
       "      <td>1000.0</td>\n",
       "      <td>test4</td>\n",
       "      <td>2022-07-15</td>\n",
       "      <td>44.000000</td>\n",
       "    </tr>\n",
       "    <tr>\n",
       "      <th>5</th>\n",
       "      <td>600.0</td>\n",
       "      <td>30000.0</td>\n",
       "      <td>test5</td>\n",
       "      <td>2022-07-15</td>\n",
       "      <td>55.000000</td>\n",
       "    </tr>\n",
       "    <tr>\n",
       "      <th>6</th>\n",
       "      <td>200.0</td>\n",
       "      <td>3000.0</td>\n",
       "      <td>NaN</td>\n",
       "      <td>2022-07-15</td>\n",
       "      <td>27.428571</td>\n",
       "    </tr>\n",
       "    <tr>\n",
       "      <th>7</th>\n",
       "      <td>100.0</td>\n",
       "      <td>20000.0</td>\n",
       "      <td>NaN</td>\n",
       "      <td>2022-07-15</td>\n",
       "      <td>27.428571</td>\n",
       "    </tr>\n",
       "    <tr>\n",
       "      <th>8</th>\n",
       "      <td>200.0</td>\n",
       "      <td>10000.0</td>\n",
       "      <td>test6</td>\n",
       "      <td>2022-07-15</td>\n",
       "      <td>11.000000</td>\n",
       "    </tr>\n",
       "    <tr>\n",
       "      <th>9</th>\n",
       "      <td>100.0</td>\n",
       "      <td>2000.0</td>\n",
       "      <td>test7</td>\n",
       "      <td>2022-07-15</td>\n",
       "      <td>27.428571</td>\n",
       "    </tr>\n",
       "  </tbody>\n",
       "</table>\n",
       "</div>"
      ],
      "text/plain": [
       "   price  product count Product Name        DOS      Sales\n",
       "0  100.0        50000.0        test1 2022-07-15  10.000000\n",
       "1  200.0         1000.0        test2 2022-07-15  20.000000\n",
       "2  300.0        10100.0          NaN 2022-07-15  30.000000\n",
       "3  400.0        20000.0        test3 2022-07-15  22.000000\n",
       "4  500.0         1000.0        test4 2022-07-15  44.000000\n",
       "5  600.0        30000.0        test5 2022-07-15  55.000000\n",
       "6  200.0         3000.0          NaN 2022-07-15  27.428571\n",
       "7  100.0        20000.0          NaN 2022-07-15  27.428571\n",
       "8  200.0        10000.0        test6 2022-07-15  11.000000\n",
       "9  100.0         2000.0        test7 2022-07-15  27.428571"
      ]
     },
     "execution_count": 111,
     "metadata": {},
     "output_type": "execute_result"
    }
   ],
   "source": [
    "df"
   ]
  },
  {
   "cell_type": "code",
   "execution_count": 112,
   "id": "afa8f9a9",
   "metadata": {},
   "outputs": [
    {
     "data": {
      "text/html": [
       "<div>\n",
       "<style scoped>\n",
       "    .dataframe tbody tr th:only-of-type {\n",
       "        vertical-align: middle;\n",
       "    }\n",
       "\n",
       "    .dataframe tbody tr th {\n",
       "        vertical-align: top;\n",
       "    }\n",
       "\n",
       "    .dataframe thead th {\n",
       "        text-align: right;\n",
       "    }\n",
       "</style>\n",
       "<table border=\"1\" class=\"dataframe\">\n",
       "  <thead>\n",
       "    <tr style=\"text-align: right;\">\n",
       "      <th></th>\n",
       "      <th>price</th>\n",
       "      <th>product count</th>\n",
       "      <th>Product Name</th>\n",
       "      <th>DOS</th>\n",
       "      <th>Sales</th>\n",
       "    </tr>\n",
       "  </thead>\n",
       "  <tbody>\n",
       "    <tr>\n",
       "      <th>0</th>\n",
       "      <td>100.0</td>\n",
       "      <td>50000.0</td>\n",
       "      <td>test1</td>\n",
       "      <td>2022-07-15</td>\n",
       "      <td>10.000000</td>\n",
       "    </tr>\n",
       "    <tr>\n",
       "      <th>1</th>\n",
       "      <td>200.0</td>\n",
       "      <td>1000.0</td>\n",
       "      <td>test2</td>\n",
       "      <td>2022-07-15</td>\n",
       "      <td>20.000000</td>\n",
       "    </tr>\n",
       "    <tr>\n",
       "      <th>2</th>\n",
       "      <td>300.0</td>\n",
       "      <td>10100.0</td>\n",
       "      <td>test2</td>\n",
       "      <td>2022-07-15</td>\n",
       "      <td>30.000000</td>\n",
       "    </tr>\n",
       "    <tr>\n",
       "      <th>3</th>\n",
       "      <td>400.0</td>\n",
       "      <td>20000.0</td>\n",
       "      <td>test3</td>\n",
       "      <td>2022-07-15</td>\n",
       "      <td>22.000000</td>\n",
       "    </tr>\n",
       "    <tr>\n",
       "      <th>4</th>\n",
       "      <td>500.0</td>\n",
       "      <td>1000.0</td>\n",
       "      <td>test4</td>\n",
       "      <td>2022-07-15</td>\n",
       "      <td>44.000000</td>\n",
       "    </tr>\n",
       "    <tr>\n",
       "      <th>5</th>\n",
       "      <td>600.0</td>\n",
       "      <td>30000.0</td>\n",
       "      <td>test5</td>\n",
       "      <td>2022-07-15</td>\n",
       "      <td>55.000000</td>\n",
       "    </tr>\n",
       "    <tr>\n",
       "      <th>6</th>\n",
       "      <td>200.0</td>\n",
       "      <td>3000.0</td>\n",
       "      <td>test5</td>\n",
       "      <td>2022-07-15</td>\n",
       "      <td>27.428571</td>\n",
       "    </tr>\n",
       "    <tr>\n",
       "      <th>7</th>\n",
       "      <td>100.0</td>\n",
       "      <td>20000.0</td>\n",
       "      <td>test5</td>\n",
       "      <td>2022-07-15</td>\n",
       "      <td>27.428571</td>\n",
       "    </tr>\n",
       "    <tr>\n",
       "      <th>8</th>\n",
       "      <td>200.0</td>\n",
       "      <td>10000.0</td>\n",
       "      <td>test6</td>\n",
       "      <td>2022-07-15</td>\n",
       "      <td>11.000000</td>\n",
       "    </tr>\n",
       "    <tr>\n",
       "      <th>9</th>\n",
       "      <td>100.0</td>\n",
       "      <td>2000.0</td>\n",
       "      <td>test7</td>\n",
       "      <td>2022-07-15</td>\n",
       "      <td>27.428571</td>\n",
       "    </tr>\n",
       "  </tbody>\n",
       "</table>\n",
       "</div>"
      ],
      "text/plain": [
       "   price  product count Product Name        DOS      Sales\n",
       "0  100.0        50000.0        test1 2022-07-15  10.000000\n",
       "1  200.0         1000.0        test2 2022-07-15  20.000000\n",
       "2  300.0        10100.0        test2 2022-07-15  30.000000\n",
       "3  400.0        20000.0        test3 2022-07-15  22.000000\n",
       "4  500.0         1000.0        test4 2022-07-15  44.000000\n",
       "5  600.0        30000.0        test5 2022-07-15  55.000000\n",
       "6  200.0         3000.0        test5 2022-07-15  27.428571\n",
       "7  100.0        20000.0        test5 2022-07-15  27.428571\n",
       "8  200.0        10000.0        test6 2022-07-15  11.000000\n",
       "9  100.0         2000.0        test7 2022-07-15  27.428571"
      ]
     },
     "execution_count": 112,
     "metadata": {},
     "output_type": "execute_result"
    }
   ],
   "source": [
    "# Product Name\n",
    "\n",
    "df[\"Product Name\"].fillna(method=\"ffill\" , inplace = True)\n",
    "df"
   ]
  },
  {
   "cell_type": "code",
   "execution_count": 113,
   "id": "49ecd248",
   "metadata": {},
   "outputs": [
    {
     "data": {
      "text/html": [
       "<div>\n",
       "<style scoped>\n",
       "    .dataframe tbody tr th:only-of-type {\n",
       "        vertical-align: middle;\n",
       "    }\n",
       "\n",
       "    .dataframe tbody tr th {\n",
       "        vertical-align: top;\n",
       "    }\n",
       "\n",
       "    .dataframe thead th {\n",
       "        text-align: right;\n",
       "    }\n",
       "</style>\n",
       "<table border=\"1\" class=\"dataframe\">\n",
       "  <thead>\n",
       "    <tr style=\"text-align: right;\">\n",
       "      <th></th>\n",
       "      <th>price</th>\n",
       "      <th>product count</th>\n",
       "      <th>Sales</th>\n",
       "    </tr>\n",
       "  </thead>\n",
       "  <tbody>\n",
       "    <tr>\n",
       "      <th>count</th>\n",
       "      <td>10.00000</td>\n",
       "      <td>10.000000</td>\n",
       "      <td>10.000000</td>\n",
       "    </tr>\n",
       "    <tr>\n",
       "      <th>mean</th>\n",
       "      <td>270.00000</td>\n",
       "      <td>14710.000000</td>\n",
       "      <td>27.428571</td>\n",
       "    </tr>\n",
       "    <tr>\n",
       "      <th>std</th>\n",
       "      <td>176.69811</td>\n",
       "      <td>15822.519114</td>\n",
       "      <td>13.742530</td>\n",
       "    </tr>\n",
       "    <tr>\n",
       "      <th>min</th>\n",
       "      <td>100.00000</td>\n",
       "      <td>1000.000000</td>\n",
       "      <td>10.000000</td>\n",
       "    </tr>\n",
       "    <tr>\n",
       "      <th>25%</th>\n",
       "      <td>125.00000</td>\n",
       "      <td>2250.000000</td>\n",
       "      <td>20.500000</td>\n",
       "    </tr>\n",
       "    <tr>\n",
       "      <th>50%</th>\n",
       "      <td>200.00000</td>\n",
       "      <td>10050.000000</td>\n",
       "      <td>27.428571</td>\n",
       "    </tr>\n",
       "    <tr>\n",
       "      <th>75%</th>\n",
       "      <td>375.00000</td>\n",
       "      <td>20000.000000</td>\n",
       "      <td>29.357143</td>\n",
       "    </tr>\n",
       "    <tr>\n",
       "      <th>max</th>\n",
       "      <td>600.00000</td>\n",
       "      <td>50000.000000</td>\n",
       "      <td>55.000000</td>\n",
       "    </tr>\n",
       "  </tbody>\n",
       "</table>\n",
       "</div>"
      ],
      "text/plain": [
       "           price  product count      Sales\n",
       "count   10.00000      10.000000  10.000000\n",
       "mean   270.00000   14710.000000  27.428571\n",
       "std    176.69811   15822.519114  13.742530\n",
       "min    100.00000    1000.000000  10.000000\n",
       "25%    125.00000    2250.000000  20.500000\n",
       "50%    200.00000   10050.000000  27.428571\n",
       "75%    375.00000   20000.000000  29.357143\n",
       "max    600.00000   50000.000000  55.000000"
      ]
     },
     "execution_count": 113,
     "metadata": {},
     "output_type": "execute_result"
    }
   ],
   "source": [
    "df.describe()"
   ]
  },
  {
   "cell_type": "code",
   "execution_count": 114,
   "id": "e3af23da",
   "metadata": {},
   "outputs": [
    {
     "data": {
      "text/plain": [
       "price                   float64\n",
       "product count           float64\n",
       "Product Name             object\n",
       "DOS              datetime64[ns]\n",
       "Sales                   float64\n",
       "dtype: object"
      ]
     },
     "execution_count": 114,
     "metadata": {},
     "output_type": "execute_result"
    }
   ],
   "source": [
    "df.dtypes"
   ]
  },
  {
   "cell_type": "markdown",
   "id": "5384d531",
   "metadata": {},
   "source": [
    "# Z score"
   ]
  },
  {
   "cell_type": "code",
   "execution_count": null,
   "id": "e85ee307",
   "metadata": {},
   "outputs": [],
   "source": []
  },
  {
   "cell_type": "code",
   "execution_count": 115,
   "id": "89940226",
   "metadata": {},
   "outputs": [],
   "source": [
    "dataset = [44, 45, 85, 77, 41, 40, 45, 47, 45, 48, 43, 41, 42, 44, 1, 11111, 0.4, 45, 48, 47]"
   ]
  },
  {
   "cell_type": "code",
   "execution_count": 116,
   "id": "dd688739",
   "metadata": {},
   "outputs": [],
   "source": [
    "outliers = []\n",
    "def detect_outliers(data):\n",
    "    \n",
    "    threshold = 3\n",
    "    mean = np.mean(data)\n",
    "    std = np.std(data)\n",
    "    \n",
    "    for i in data:\n",
    "        z_score = (i - mean)/std\n",
    "        if np.abs(z_score) > threshold:\n",
    "            outliers.append(i)\n",
    "            return outliers\n"
   ]
  },
  {
   "cell_type": "code",
   "execution_count": 79,
   "id": "99d93778",
   "metadata": {},
   "outputs": [],
   "source": [
    "outlier_pt = detect_outliers(dataset)"
   ]
  },
  {
   "cell_type": "code",
   "execution_count": 80,
   "id": "0dc1673b",
   "metadata": {},
   "outputs": [
    {
     "data": {
      "text/plain": [
       "[11111]"
      ]
     },
     "execution_count": 80,
     "metadata": {},
     "output_type": "execute_result"
    }
   ],
   "source": [
    "outlier_pt"
   ]
  },
  {
   "cell_type": "markdown",
   "id": "62f68d82",
   "metadata": {},
   "source": [
    "# Quartile"
   ]
  },
  {
   "cell_type": "code",
   "execution_count": 81,
   "id": "2ce5c344",
   "metadata": {},
   "outputs": [
    {
     "data": {
      "text/plain": [
       "[0.4,\n",
       " 1,\n",
       " 40,\n",
       " 41,\n",
       " 41,\n",
       " 42,\n",
       " 43,\n",
       " 44,\n",
       " 44,\n",
       " 45,\n",
       " 45,\n",
       " 45,\n",
       " 45,\n",
       " 47,\n",
       " 47,\n",
       " 48,\n",
       " 48,\n",
       " 77,\n",
       " 85,\n",
       " 11111]"
      ]
     },
     "execution_count": 81,
     "metadata": {},
     "output_type": "execute_result"
    }
   ],
   "source": [
    "sorted(dataset)"
   ]
  },
  {
   "cell_type": "code",
   "execution_count": 82,
   "id": "221fb8df",
   "metadata": {},
   "outputs": [],
   "source": [
    "quartile1, quartile3 = np.percentile(dataset, [25, 75])"
   ]
  },
  {
   "cell_type": "code",
   "execution_count": 83,
   "id": "5768ea0f",
   "metadata": {},
   "outputs": [
    {
     "name": "stdout",
     "output_type": "stream",
     "text": [
      "41.75 47.25\n"
     ]
    }
   ],
   "source": [
    "print(quartile1, quartile3)"
   ]
  },
  {
   "cell_type": "code",
   "execution_count": 84,
   "id": "2ddddda5",
   "metadata": {},
   "outputs": [
    {
     "name": "stdout",
     "output_type": "stream",
     "text": [
      "5.5\n"
     ]
    }
   ],
   "source": [
    "iqr_value = quartile3 - quartile1\n",
    "print(iqr_value)"
   ]
  },
  {
   "cell_type": "code",
   "execution_count": 85,
   "id": "957e3746",
   "metadata": {},
   "outputs": [],
   "source": [
    "lower_bound_val = quartile1 - (1.5 * iqr_value)\n",
    "upper_bound_val = quartile3 + (1.5 * iqr_value)"
   ]
  },
  {
   "cell_type": "code",
   "execution_count": 86,
   "id": "9c477cbb",
   "metadata": {},
   "outputs": [
    {
     "name": "stdout",
     "output_type": "stream",
     "text": [
      "33.5 55.5\n"
     ]
    }
   ],
   "source": [
    "print(lower_bound_val, upper_bound_val)"
   ]
  },
  {
   "cell_type": "code",
   "execution_count": 87,
   "id": "c92a1ef1",
   "metadata": {},
   "outputs": [],
   "source": [
    "import pandas as pd\n",
    "import matplotlib.pyplot as plt\n"
   ]
  },
  {
   "cell_type": "code",
   "execution_count": 88,
   "id": "c6233dc1",
   "metadata": {},
   "outputs": [
    {
     "data": {
      "text/html": [
       "<div>\n",
       "<style scoped>\n",
       "    .dataframe tbody tr th:only-of-type {\n",
       "        vertical-align: middle;\n",
       "    }\n",
       "\n",
       "    .dataframe tbody tr th {\n",
       "        vertical-align: top;\n",
       "    }\n",
       "\n",
       "    .dataframe thead th {\n",
       "        text-align: right;\n",
       "    }\n",
       "</style>\n",
       "<table border=\"1\" class=\"dataframe\">\n",
       "  <thead>\n",
       "    <tr style=\"text-align: right;\">\n",
       "      <th></th>\n",
       "      <th>price</th>\n",
       "      <th>product count</th>\n",
       "      <th>Sales</th>\n",
       "    </tr>\n",
       "  </thead>\n",
       "  <tbody>\n",
       "    <tr>\n",
       "      <th>count</th>\n",
       "      <td>10.00000</td>\n",
       "      <td>10.000000</td>\n",
       "      <td>10.000000</td>\n",
       "    </tr>\n",
       "    <tr>\n",
       "      <th>mean</th>\n",
       "      <td>270.00000</td>\n",
       "      <td>14710.000000</td>\n",
       "      <td>27.428571</td>\n",
       "    </tr>\n",
       "    <tr>\n",
       "      <th>std</th>\n",
       "      <td>176.69811</td>\n",
       "      <td>15822.519114</td>\n",
       "      <td>13.742530</td>\n",
       "    </tr>\n",
       "    <tr>\n",
       "      <th>min</th>\n",
       "      <td>100.00000</td>\n",
       "      <td>1000.000000</td>\n",
       "      <td>10.000000</td>\n",
       "    </tr>\n",
       "    <tr>\n",
       "      <th>25%</th>\n",
       "      <td>125.00000</td>\n",
       "      <td>2250.000000</td>\n",
       "      <td>20.500000</td>\n",
       "    </tr>\n",
       "    <tr>\n",
       "      <th>50%</th>\n",
       "      <td>200.00000</td>\n",
       "      <td>10050.000000</td>\n",
       "      <td>27.428571</td>\n",
       "    </tr>\n",
       "    <tr>\n",
       "      <th>75%</th>\n",
       "      <td>375.00000</td>\n",
       "      <td>20000.000000</td>\n",
       "      <td>29.357143</td>\n",
       "    </tr>\n",
       "    <tr>\n",
       "      <th>max</th>\n",
       "      <td>600.00000</td>\n",
       "      <td>50000.000000</td>\n",
       "      <td>55.000000</td>\n",
       "    </tr>\n",
       "  </tbody>\n",
       "</table>\n",
       "</div>"
      ],
      "text/plain": [
       "           price  product count      Sales\n",
       "count   10.00000      10.000000  10.000000\n",
       "mean   270.00000   14710.000000  27.428571\n",
       "std    176.69811   15822.519114  13.742530\n",
       "min    100.00000    1000.000000  10.000000\n",
       "25%    125.00000    2250.000000  20.500000\n",
       "50%    200.00000   10050.000000  27.428571\n",
       "75%    375.00000   20000.000000  29.357143\n",
       "max    600.00000   50000.000000  55.000000"
      ]
     },
     "execution_count": 88,
     "metadata": {},
     "output_type": "execute_result"
    }
   ],
   "source": [
    "df.describe()"
   ]
  },
  {
   "cell_type": "code",
   "execution_count": 89,
   "id": "de4ad01f",
   "metadata": {},
   "outputs": [
    {
     "data": {
      "image/png": "[encoded data removed]",
      "text/plain": [
       "<Figure size 432x288 with 1 Axes>"
      ]
     },
     "metadata": {
      "needs_background": "light"
     },
     "output_type": "display_data"
    }
   ],
   "source": [
    "df['Sales'].plot(kind = 'box');"
   ]
  },
  {
   "cell_type": "code",
   "execution_count": 90,
   "id": "3170d5de",
   "metadata": {},
   "outputs": [
    {
     "data": {
      "image/png": "[encoded data removed]",
      "text/plain": [
       "<Figure size 432x288 with 1 Axes>"
      ]
     },
     "metadata": {
      "needs_background": "light"
     },
     "output_type": "display_data"
    }
   ],
   "source": [
    "df['Sales'].plot(kind = 'box', vert = False);"
   ]
  },
  {
   "cell_type": "code",
   "execution_count": 91,
   "id": "e0ea5691",
   "metadata": {},
   "outputs": [
    {
     "data": {
      "image/png": "[encoded data removed]",
      "text/plain": [
       "<Figure size 432x288 with 1 Axes>"
      ]
     },
     "metadata": {
      "needs_background": "light"
     },
     "output_type": "display_data"
    }
   ],
   "source": [
    "df['product count'].plot(kind = 'box');"
   ]
  },
  {
   "cell_type": "code",
   "execution_count": 92,
   "id": "085d7360",
   "metadata": {},
   "outputs": [
    {
     "data": {
      "image/png": "[encoded data removed]",
      "text/plain": [
       "<Figure size 432x288 with 1 Axes>"
      ]
     },
     "metadata": {
      "needs_background": "light"
     },
     "output_type": "display_data"
    }
   ],
   "source": [
    "plt.boxplot(x = df['product count'], vert = False);"
   ]
  },
  {
   "cell_type": "code",
   "execution_count": 93,
   "id": "3371be3b",
   "metadata": {},
   "outputs": [
    {
     "data": {
      "image/png": "[encoded data removed]",
      "text/plain": [
       "<Figure size 432x288 with 1 Axes>"
      ]
     },
     "metadata": {
      "needs_background": "light"
     },
     "output_type": "display_data"
    }
   ],
   "source": [
    "df['price'].plot(kind = 'box')\n",
    "plt.semilogy();"
   ]
  },
  {
   "cell_type": "code",
   "execution_count": 94,
   "id": "5da6695b",
   "metadata": {},
   "outputs": [],
   "source": [
    "red_circle = dict(markerfacecolor = 'blue', marker = 'o')\n"
   ]
  },
  {
   "cell_type": "code",
   "execution_count": 95,
   "id": "ef942cbe",
   "metadata": {},
   "outputs": [
    {
     "data": {
      "image/png": "[encoded data removed]",
      "text/plain": [
       "<Figure size 432x288 with 1 Axes>"
      ]
     },
     "metadata": {
      "needs_background": "light"
     },
     "output_type": "display_data"
    }
   ],
   "source": [
    "plt.boxplot(x = df['Sales'], vert = False, flierprops = red_circle);"
   ]
  },
  {
   "cell_type": "code",
   "execution_count": 96,
   "id": "9f80b3af",
   "metadata": {},
   "outputs": [],
   "source": [
    "red_circle = dict(markerfacecolor='red',\n",
    "marker='o')\n",
    "mean_shape= dict(markerfacecolor='green',\n",
    "    marker='D',\n",
    "    markeredgecolor='green')"
   ]
  },
  {
   "cell_type": "code",
   "execution_count": 97,
   "id": "a1039ed4",
   "metadata": {},
   "outputs": [
    {
     "data": {
      "image/png": "[encoded data removed]",
      "text/plain": [
       "<Figure size 432x288 with 1 Axes>"
      ]
     },
     "metadata": {
      "needs_background": "light"
     },
     "output_type": "display_data"
    }
   ],
   "source": [
    "plt.boxplot(x=df['Sales'], vert=False,\n",
    "flierprops=red_circle,showmeans=True,\n",
    " meanprops=mean_shape);"
   ]
  },
  {
   "cell_type": "code",
   "execution_count": 99,
   "id": "c2da76ff",
   "metadata": {},
   "outputs": [
    {
     "ename": "AttributeError",
     "evalue": "module 'matplotlib.pyplot' has no attribute 'xlable'",
     "output_type": "error",
     "traceback": [
      "\u001b[1;31m---------------------------------------------------------------------------\u001b[0m",
      "\u001b[1;31mAttributeError\u001b[0m                            Traceback (most recent call last)",
      "\u001b[1;32m~\\AppData\\Local\\Temp/ipykernel_268/845724296.py\u001b[0m in \u001b[0;36m<module>\u001b[1;34m\u001b[0m\n\u001b[0;32m      2\u001b[0m \u001b[0mplt\u001b[0m\u001b[1;33m.\u001b[0m\u001b[0mboxplot\u001b[0m\u001b[1;33m(\u001b[0m\u001b[0mdataset\u001b[0m\u001b[1;33m)\u001b[0m\u001b[1;33m\u001b[0m\u001b[1;33m\u001b[0m\u001b[0m\n\u001b[0;32m      3\u001b[0m \u001b[0mplt\u001b[0m\u001b[1;33m.\u001b[0m\u001b[0mtitle\u001b[0m\u001b[1;33m(\u001b[0m\u001b[1;34m\"Detecting\"\u001b[0m\u001b[1;33m)\u001b[0m\u001b[1;33m\u001b[0m\u001b[1;33m\u001b[0m\u001b[0m\n\u001b[1;32m----> 4\u001b[1;33m \u001b[0mplt\u001b[0m\u001b[1;33m.\u001b[0m\u001b[0mxlable\u001b[0m\u001b[1;33m(\u001b[0m\u001b[1;34m'dataset'\u001b[0m\u001b[1;33m)\u001b[0m\u001b[1;33m\u001b[0m\u001b[1;33m\u001b[0m\u001b[0m\n\u001b[0m",
      "\u001b[1;31mAttributeError\u001b[0m: module 'matplotlib.pyplot' has no attribute 'xlable'"
     ]
    },
    {
     "data": {
      "image/png": "[encoded data removed]",
      "text/plain": [
       "<Figure size 432x288 with 1 Axes>"
      ]
     },
     "metadata": {
      "needs_background": "light"
     },
     "output_type": "display_data"
    }
   ],
   "source": [
    "import matplotlib.pyplot as plt\n",
    "plt.boxplot(dataset)\n",
    "plt.title(\"Detecting\")\n",
    "plt.xlable('dataset')"
   ]
  },
  {
   "cell_type": "code",
   "execution_count": null,
   "id": "c9c761f9",
   "metadata": {},
   "outputs": [],
   "source": []
  }
 ],
 "metadata": {
  "kernelspec": {
   "display_name": "Python 3 (ipykernel)",
   "language": "python",
   "name": "python3"
  },
  "language_info": {
   "codemirror_mode": {
    "name": "ipython",
    "version": 3
   },
   "file_extension": ".py",
   "mimetype": "text/x-python",
   "name": "python",
   "nbconvert_exporter": "python",
   "pygments_lexer": "ipython3",
   "version": "3.9.7"
  }
 },
 "nbformat": 4,
 "nbformat_minor": 5
}
