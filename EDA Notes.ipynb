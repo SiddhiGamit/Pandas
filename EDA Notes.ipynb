{
 "cells": [
  {
   "cell_type": "markdown",
   "id": "c800a4d7",
   "metadata": {},
   "source": [
    "# Convert String to Float in DF"
   ]
  },
  {
   "cell_type": "markdown",
   "id": "3bd106d6",
   "metadata": {},
   "source": [
    " 1. convert single column to string\n",
    " \n",
    "df['Col_name'] = df['Col_name'].astype(float)\n",
    "df.dtypes"
   ]
  },
  {
   "cell_type": "markdown",
   "id": "cc5c1aba",
   "metadata": {},
   "source": [
    "2. Convert multiple columns\n",
    "df = df.astype({'Col_name1' : 'float', 'Col_name2' : 'float'})"
   ]
  },
  {
   "cell_type": "markdown",
   "id": "51e064be",
   "metadata": {},
   "source": [
    "3. convert all columns to float\n",
    "df = df.astype(float)\n",
    "df.types"
   ]
  },
  {
   "cell_type": "markdown",
   "id": "1928757a",
   "metadata": {},
   "source": [
    "4. Convert Numeric function string to float\n",
    "df['Col_Name1'] = pd.to_numeric(df['Col_Name'])\n",
    "df.dtypes"
   ]
  },
  {
   "cell_type": "markdown",
   "id": "db38c11e",
   "metadata": {},
   "source": [
    "5. convert dataframe column from string to float\n",
    "df['Col_name'] = pd.to_numeri(['Col_name'], downcast = 'float')\n",
    "df.dtypes"
   ]
  },
  {
   "cell_type": "markdown",
   "id": "cecd57ee",
   "metadata": {},
   "source": [
    "6. convert each value of the column to a string\n",
    "df['Col_name'] = pd.to_numeric([Col_name], errors = 'coerce')\n",
    "df.dtypes"
   ]
  },
  {
   "cell_type": "markdown",
   "id": "f23e5203",
   "metadata": {},
   "source": [
    "7. using df.replace() to replace NaN values 0 before conversation\n",
    "df['Col_name'] = pd.to_numeric(np.nan, 0, regex = True)\n",
    "df\n",
    "df.dtypes"
   ]
  },
  {
   "cell_type": "markdown",
   "id": "939ec4f4",
   "metadata": {},
   "source": [
    "8. Replace empty string ('') with np.nan before conversation\n",
    "df['Col_name'] = df.Col_name.replace('', np.nan).astype(float)\n",
    "df\n",
    "df.types"
   ]
  }
 ],
 "metadata": {
  "kernelspec": {
   "display_name": "Python 3 (ipykernel)",
   "language": "python",
   "name": "python3"
  },
  "language_info": {
   "codemirror_mode": {
    "name": "ipython",
    "version": 3
   },
   "file_extension": ".py",
   "mimetype": "text/x-python",
   "name": "python",
   "nbconvert_exporter": "python",
   "pygments_lexer": "ipython3",
   "version": "3.9.7"
  }
 },
 "nbformat": 4,
 "nbformat_minor": 5
}
