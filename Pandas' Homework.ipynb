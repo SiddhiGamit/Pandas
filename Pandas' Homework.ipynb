{
 "cells": [
  {
   "cell_type": "code",
   "execution_count": null,
   "id": "53e2127c",
   "metadata": {},
   "outputs": [],
   "source": [
    "import numpy as np"
   ]
  },
  {
   "cell_type": "code",
   "execution_count": null,
   "id": "c135db40",
   "metadata": {},
   "outputs": [],
   "source": [
    "import pandas as pd"
   ]
  },
  {
   "cell_type": "code",
   "execution_count": null,
   "id": "b120a391",
   "metadata": {},
   "outputs": [],
   "source": [
    "###make a series from an array\n",
    "\n",
    "arr = np.array([1, 2, 3, 4, 5, 6])\n",
    "ser = pd.Series(arr)\n",
    "ser"
   ]
  },
  {
   "cell_type": "code",
   "execution_count": null,
   "id": "3d471ae9",
   "metadata": {},
   "outputs": [],
   "source": [
    "###arr = np.array([1, 2, 3, 4, 5, 6])\n",
    "###ser = pd.Series(arr, index = [\"A\", \"B\", \"C\", \"D\", \"E\", \"F\"])\n",
    "###ser\n"
   ]
  },
  {
   "cell_type": "code",
   "execution_count": null,
   "id": "325aebe0",
   "metadata": {},
   "outputs": [],
   "source": [
    "###make a series from a dictionary\n",
    "\n",
    "dic = {\"A\": 1, \"B\": 2, \"C\": 3, \"D\": 4, \"E\": 5, \"F\": 6}\n",
    "ser = pd.Series(dic)\n",
    "ser"
   ]
  },
  {
   "cell_type": "code",
   "execution_count": null,
   "id": "0f2d7310",
   "metadata": {},
   "outputs": [],
   "source": [
    "###dic = {'A' : 1, 'B' : 2, 'C' : 3}\n",
    "###ser = pd.Series(dic, index = ['B', 'C', 'D'])\n",
    "###print(ser)"
   ]
  },
  {
   "cell_type": "code",
   "execution_count": null,
   "id": "cf092f2f",
   "metadata": {},
   "outputs": [],
   "source": [
    "###dic = {'A' : 1, 'B' : 2, 'C' : 3}\n",
    "###ser = pd.Series(dic, index = ['B', 'D', 'C', 'D'])\n",
    "###ser"
   ]
  },
  {
   "cell_type": "code",
   "execution_count": null,
   "id": "f446b1db",
   "metadata": {},
   "outputs": [],
   "source": [
    "#make a dataframe from array\n",
    "\n",
    "array = np.array([[1, 2, 3], [4, 5, 6], [7, 8, 9]])\n",
    "index_values = ['first', 'second', 'third']\n",
    "column_values = ['number', 'squares', 'cubes']\n",
    "df = pd.DataFrame(data = array,\n",
    "                 index = index_values,\n",
    "                 columns = column_values)\n",
    "df"
   ]
  },
  {
   "cell_type": "code",
   "execution_count": null,
   "id": "24ccd669",
   "metadata": {},
   "outputs": [],
   "source": [
    "#array = np.array([['Siddhi', 27], ['Sushil', 28], ['Himanshu', 26]])\n",
    "#index_values = ['A', 'B', 'C']\n",
    "#column_values = ['Name', 'Age']\n",
    "#df = pd.DataFrame(data = array,\n",
    "#                 index = index_values,\n",
    " #                columns = column_values)\n",
    "#df"
   ]
  },
  {
   "cell_type": "code",
   "execution_count": null,
   "id": "16877d9f",
   "metadata": {},
   "outputs": [],
   "source": [
    "##adding third column\n",
    "#array = np.array([['Siddhi', 27, 'November'], ['Sushil', 28, 'July'], ['Himanshu', 26, 'March'],['Kenisha', 28, 'September']])\n",
    "#index_values = ['A', 'B', 'C', 'D']\n",
    "#column_values = ['Name', 'Age', 'Birth_Month']\n",
    "#df = pd.DataFrame(data = array,\n",
    " #                index = index_values,\n",
    " #                columns = column_values)\n",
    "#df"
   ]
  },
  {
   "cell_type": "code",
   "execution_count": null,
   "id": "f4f5d111",
   "metadata": {},
   "outputs": [],
   "source": [
    "###make a DataFrame from an dictionary\n",
    "\n",
    "data = {\n",
    "    'cloths' : ['Jeans', 'Tops', 'Shirt'],\n",
    "    'color' : ['Blue', 'Black', 'White'],\n",
    "    'size' : ['L', 'S', 'XL']\n",
    "}\n",
    "df = pd.DataFrame(data)\n",
    "df\n"
   ]
  },
  {
   "cell_type": "code",
   "execution_count": null,
   "id": "e443edcf",
   "metadata": {},
   "outputs": [],
   "source": [
    "### with index\n",
    "\n",
    "###data = {\n",
    "###    'cloths' : ['Jeans', 'Top', 'Shirt'],\n",
    "###    'color' : ['Blue', 'Black', 'White'],\n",
    "###    'size' : ['L', 'S', 'XL']\n",
    "###}\n",
    "##df = pd.DataFrame(data, index = [\"my_cloths\", \"fav_color\", \"my_size\"])\n",
    "##df"
   ]
  },
  {
   "cell_type": "code",
   "execution_count": null,
   "id": "e655b79b",
   "metadata": {},
   "outputs": [],
   "source": [
    "#data = {\n",
    " #  'Siddhi' : 27,\n",
    "  #  'Heer' : 12,\n",
    "   # 'Aahan' : 4\n",
    "#}\n",
    "#df = pd.DataFrame(list(data.items()))\n",
    "#df"
   ]
  },
  {
   "cell_type": "code",
   "execution_count": null,
   "id": "fa6931eb",
   "metadata": {},
   "outputs": [],
   "source": [
    "#required columns only\n",
    "\n",
    "#data = {\n",
    " #   'cloths' : ['Jeans', 'Tops', 'Shirt'],\n",
    "  #'color' : ['Blue', 'Black', 'White'],\n",
    "   # 'size' : ['L', 'S', 'XL']\n",
    "#}\n",
    "#df = pd.DataFrame(data, columns = ['cloths', 'color'])\n",
    "#df"
   ]
  },
  {
   "cell_type": "code",
   "execution_count": null,
   "id": "cd900724",
   "metadata": {},
   "outputs": [],
   "source": [
    "data = {\n",
    "    'Name of Students' : ['Siddhi', 'Heli', 'Disha', 'Ritik', 'Deepak', 'Abhinav', 'Urvish', 'Kenisha','Pinal', 'Heeral'],\n",
    "    'Course Name' : ['DS', 'DA', 'Python', 'DS', 'DA','Python', 'Python', 'DS', 'DS', 'DA'],\n",
    "    'Total Marks' : [77, 80, 93, 79, 83, 66, 59, 87, 47, 55]\n",
    "}\n",
    "df = pd.DataFrame(data)\n",
    "df"
   ]
  },
  {
   "cell_type": "code",
   "execution_count": null,
   "id": "20be7e85",
   "metadata": {},
   "outputs": [],
   "source": [
    "data = {\n",
    "    'Name of Students' : ['Siddhi', 'Heli', 'Disha', 'Ritik', 'Deepak'],\n",
    "    'Course Name' : ['DS', 'DA', 'Python', 'DS', 'DA'],\n",
    "    'Total Marks' : [77, 80, 93, 79, 83]\n",
    "}\n",
    "df = pd.DataFrame(data, index = ['A', 'B', 'C', 'D', 'E'])\n",
    "df"
   ]
  },
  {
   "cell_type": "code",
   "execution_count": null,
   "id": "f8765cba",
   "metadata": {},
   "outputs": [],
   "source": [
    "###df = pd.DataFrame(data, index = 'I','II', 'III', 'IV', 'V', 'VI', 'VII', 'VIII', 'IX', 'X')\n",
    "####df = pd.DataFrame(data, index = ['A', 'B', 'C', 'D', 'E', 'F', 'G', 'H', 'I', 'J'])\n"
   ]
  },
  {
   "cell_type": "code",
   "execution_count": null,
   "id": "ed335f33",
   "metadata": {},
   "outputs": [],
   "source": [
    "df[[\"Total Marks\"]]"
   ]
  },
  {
   "cell_type": "code",
   "execution_count": null,
   "id": "f12adaa6",
   "metadata": {},
   "outputs": [],
   "source": [
    "print(df[[\"Name of Students\",\"Total Marks\"]])"
   ]
  },
  {
   "cell_type": "code",
   "execution_count": null,
   "id": "4a5eba33",
   "metadata": {},
   "outputs": [],
   "source": [
    "df[1:4]"
   ]
  },
  {
   "cell_type": "code",
   "execution_count": null,
   "id": "6db1b828",
   "metadata": {},
   "outputs": [],
   "source": [
    "df[2:3]"
   ]
  },
  {
   "cell_type": "code",
   "execution_count": null,
   "id": "61d206e6",
   "metadata": {},
   "outputs": [],
   "source": [
    "df[1:3]"
   ]
  },
  {
   "cell_type": "code",
   "execution_count": null,
   "id": "3f363be0",
   "metadata": {},
   "outputs": [],
   "source": [
    "df[:2:]"
   ]
  },
  {
   "cell_type": "code",
   "execution_count": null,
   "id": "da9771bd",
   "metadata": {},
   "outputs": [],
   "source": [
    "import numpy as np\n",
    "data = {\n",
    "    'Name of Students' : ['Siddhi', 'Heli', 'Disha', 'Ritik', 'Deepak'],\n",
    "    'Course Name' : [\"Data Science\", 'Data Analytics', 'Python', 'Data Science', 'Data Analytics'],\n",
    "    'Total Marks' : [ 77, 80, 93, 79, 83]\n",
    "    \n",
    "}\n",
    "df = pd.DataFrame(data, index = ['A', 'B', 'C', 'D', 'E'])\n",
    "df"
   ]
  },
  {
   "cell_type": "code",
   "execution_count": null,
   "id": "3982e54a",
   "metadata": {},
   "outputs": [],
   "source": [
    "df.loc['F'] = ['Janu', 'Data Science', 77]"
   ]
  },
  {
   "cell_type": "code",
   "execution_count": null,
   "id": "6a6a1200",
   "metadata": {},
   "outputs": [],
   "source": [
    "df.loc['G'] = ['Dhruv', np.nan, 91]"
   ]
  },
  {
   "cell_type": "code",
   "execution_count": null,
   "id": "c357a24b",
   "metadata": {},
   "outputs": [],
   "source": [
    "df.loc['H'] = ['Dipti', 'DA', 97]"
   ]
  },
  {
   "cell_type": "code",
   "execution_count": null,
   "id": "5b6ce238",
   "metadata": {},
   "outputs": [],
   "source": [
    "df"
   ]
  },
  {
   "cell_type": "code",
   "execution_count": null,
   "id": "a725a96b",
   "metadata": {},
   "outputs": [],
   "source": [
    "##df['DOJ'] = ['a', 'b', 'c', 'd', 'e', 'f', 'g']"
   ]
  },
  {
   "cell_type": "code",
   "execution_count": null,
   "id": "b89de87b",
   "metadata": {},
   "outputs": [],
   "source": [
    "df"
   ]
  },
  {
   "cell_type": "code",
   "execution_count": null,
   "id": "d7402c35",
   "metadata": {},
   "outputs": [],
   "source": [
    "###df = df.drop(['DOJ'], axis = 1)\n"
   ]
  },
  {
   "cell_type": "code",
   "execution_count": null,
   "id": "7a51edcc",
   "metadata": {},
   "outputs": [],
   "source": [
    "ag = [20, 22, 24, 27, 17, 12, 10, 25]\n",
    "df['Age'] = ag\n",
    "df"
   ]
  },
  {
   "cell_type": "code",
   "execution_count": null,
   "id": "95affe2a",
   "metadata": {},
   "outputs": [],
   "source": [
    "df"
   ]
  },
  {
   "cell_type": "code",
   "execution_count": null,
   "id": "5a65b898",
   "metadata": {},
   "outputs": [],
   "source": [
    "df['Age']>20"
   ]
  },
  {
   "cell_type": "code",
   "execution_count": null,
   "id": "6b662df4",
   "metadata": {},
   "outputs": [],
   "source": [
    "df[df['Age']>20]"
   ]
  },
  {
   "cell_type": "code",
   "execution_count": null,
   "id": "752d28b6",
   "metadata": {},
   "outputs": [],
   "source": [
    "\n",
    "df = df.drop(['D'], axis=0)\n",
    "df"
   ]
  },
  {
   "cell_type": "code",
   "execution_count": null,
   "id": "5e96b31f",
   "metadata": {},
   "outputs": [],
   "source": [
    "df[['Name of Students', 'Course Name', 'Total Marks']].loc['B': 'F']"
   ]
  },
  {
   "cell_type": "code",
   "execution_count": null,
   "id": "41df146b",
   "metadata": {},
   "outputs": [],
   "source": [
    "df['Name of Students'].loc['B': 'E']"
   ]
  },
  {
   "cell_type": "code",
   "execution_count": null,
   "id": "edc8d149",
   "metadata": {},
   "outputs": [],
   "source": [
    "df.loc([0], ['Name of Students'])\n",
    "df"
   ]
  },
  {
   "cell_type": "code",
   "execution_count": null,
   "id": "fb5bdb57",
   "metadata": {},
   "outputs": [],
   "source": [
    "df.loc[['B', 'E']]  ##select only b and e"
   ]
  },
  {
   "cell_type": "code",
   "execution_count": null,
   "id": "6f180016",
   "metadata": {},
   "outputs": [],
   "source": [
    "df['Total Marks']>80"
   ]
  },
  {
   "cell_type": "code",
   "execution_count": null,
   "id": "7193d303",
   "metadata": {},
   "outputs": [],
   "source": [
    "df.loc['C']"
   ]
  },
  {
   "cell_type": "code",
   "execution_count": null,
   "id": "2534574e",
   "metadata": {},
   "outputs": [],
   "source": [
    "df[df['Total Marks']>80]"
   ]
  },
  {
   "cell_type": "code",
   "execution_count": null,
   "id": "397f9afa",
   "metadata": {},
   "outputs": [],
   "source": [
    "df['Total Marks']"
   ]
  },
  {
   "cell_type": "code",
   "execution_count": null,
   "id": "92c6e8ff",
   "metadata": {},
   "outputs": [],
   "source": [
    "df[df['Course Name'] == 'Data Science']  "
   ]
  },
  {
   "cell_type": "code",
   "execution_count": null,
   "id": "d3705967",
   "metadata": {},
   "outputs": [],
   "source": [
    "df[df['Course Name'] == 'Python']  "
   ]
  },
  {
   "cell_type": "code",
   "execution_count": null,
   "id": "3e735918",
   "metadata": {},
   "outputs": [],
   "source": [
    "df[df['Course Name'] == 'Data Analytics']"
   ]
  },
  {
   "cell_type": "markdown",
   "id": "c4c5dfdd",
   "metadata": {},
   "source": [
    "# "
   ]
  },
  {
   "cell_type": "code",
   "execution_count": 1,
   "id": "038da7d1",
   "metadata": {},
   "outputs": [],
   "source": [
    "import pandas as pd"
   ]
  },
  {
   "cell_type": "code",
   "execution_count": 2,
   "id": "91410d34",
   "metadata": {},
   "outputs": [],
   "source": [
    "df1 = pd.read_excel('pandasss.xlsx')\n"
   ]
  },
  {
   "cell_type": "code",
   "execution_count": 3,
   "id": "998e561e",
   "metadata": {
    "scrolled": false
   },
   "outputs": [
    {
     "data": {
      "text/html": [
       "<div>\n",
       "<style scoped>\n",
       "    .dataframe tbody tr th:only-of-type {\n",
       "        vertical-align: middle;\n",
       "    }\n",
       "\n",
       "    .dataframe tbody tr th {\n",
       "        vertical-align: top;\n",
       "    }\n",
       "\n",
       "    .dataframe thead th {\n",
       "        text-align: right;\n",
       "    }\n",
       "</style>\n",
       "<table border=\"1\" class=\"dataframe\">\n",
       "  <thead>\n",
       "    <tr style=\"text-align: right;\">\n",
       "      <th></th>\n",
       "      <th>col1</th>\n",
       "      <th>col2</th>\n",
       "    </tr>\n",
       "  </thead>\n",
       "  <tbody>\n",
       "    <tr>\n",
       "      <th>0</th>\n",
       "      <td>1</td>\n",
       "      <td>45</td>\n",
       "    </tr>\n",
       "    <tr>\n",
       "      <th>1</th>\n",
       "      <td>2</td>\n",
       "      <td>54</td>\n",
       "    </tr>\n",
       "    <tr>\n",
       "      <th>2</th>\n",
       "      <td>3</td>\n",
       "      <td>7</td>\n",
       "    </tr>\n",
       "    <tr>\n",
       "      <th>3</th>\n",
       "      <td>4</td>\n",
       "      <td>8</td>\n",
       "    </tr>\n",
       "    <tr>\n",
       "      <th>4</th>\n",
       "      <td>5</td>\n",
       "      <td>45</td>\n",
       "    </tr>\n",
       "    <tr>\n",
       "      <th>5</th>\n",
       "      <td>6</td>\n",
       "      <td>98</td>\n",
       "    </tr>\n",
       "    <tr>\n",
       "      <th>6</th>\n",
       "      <td>7</td>\n",
       "      <td>77</td>\n",
       "    </tr>\n",
       "    <tr>\n",
       "      <th>7</th>\n",
       "      <td>8</td>\n",
       "      <td>52</td>\n",
       "    </tr>\n",
       "    <tr>\n",
       "      <th>8</th>\n",
       "      <td>9</td>\n",
       "      <td>98</td>\n",
       "    </tr>\n",
       "    <tr>\n",
       "      <th>9</th>\n",
       "      <td>10</td>\n",
       "      <td>45</td>\n",
       "    </tr>\n",
       "  </tbody>\n",
       "</table>\n",
       "</div>"
      ],
      "text/plain": [
       "   col1  col2\n",
       "0     1    45\n",
       "1     2    54\n",
       "2     3     7\n",
       "3     4     8\n",
       "4     5    45\n",
       "5     6    98\n",
       "6     7    77\n",
       "7     8    52\n",
       "8     9    98\n",
       "9    10    45"
      ]
     },
     "execution_count": 3,
     "metadata": {},
     "output_type": "execute_result"
    }
   ],
   "source": [
    "df1"
   ]
  },
  {
   "cell_type": "code",
   "execution_count": 4,
   "id": "99ea2061",
   "metadata": {},
   "outputs": [
    {
     "data": {
      "text/html": [
       "<div>\n",
       "<style scoped>\n",
       "    .dataframe tbody tr th:only-of-type {\n",
       "        vertical-align: middle;\n",
       "    }\n",
       "\n",
       "    .dataframe tbody tr th {\n",
       "        vertical-align: top;\n",
       "    }\n",
       "\n",
       "    .dataframe thead th {\n",
       "        text-align: right;\n",
       "    }\n",
       "</style>\n",
       "<table border=\"1\" class=\"dataframe\">\n",
       "  <thead>\n",
       "    <tr style=\"text-align: right;\">\n",
       "      <th></th>\n",
       "      <th>Col_A</th>\n",
       "      <th>Col_B</th>\n",
       "      <th>Col_C</th>\n",
       "    </tr>\n",
       "  </thead>\n",
       "  <tbody>\n",
       "    <tr>\n",
       "      <th>0</th>\n",
       "      <td>10</td>\n",
       "      <td>20</td>\n",
       "      <td>30</td>\n",
       "    </tr>\n",
       "    <tr>\n",
       "      <th>1</th>\n",
       "      <td>40</td>\n",
       "      <td>50</td>\n",
       "      <td>60</td>\n",
       "    </tr>\n",
       "    <tr>\n",
       "      <th>2</th>\n",
       "      <td>70</td>\n",
       "      <td>80</td>\n",
       "      <td>90</td>\n",
       "    </tr>\n",
       "    <tr>\n",
       "      <th>3</th>\n",
       "      <td>100</td>\n",
       "      <td>110</td>\n",
       "      <td>120</td>\n",
       "    </tr>\n",
       "  </tbody>\n",
       "</table>\n",
       "</div>"
      ],
      "text/plain": [
       "   Col_A  Col_B  Col_C\n",
       "0     10     20     30\n",
       "1     40     50     60\n",
       "2     70     80     90\n",
       "3    100    110    120"
      ]
     },
     "execution_count": 4,
     "metadata": {},
     "output_type": "execute_result"
    }
   ],
   "source": [
    "df = pd.DataFrame([[10, 20, 30],\n",
    "                  [40, 50, 60],\n",
    "                  [70, 80, 90],\n",
    "                  [100, 110, 120]],\n",
    "columns = ['Col_A', 'Col_B', 'Col_C'])\n",
    "df"
   ]
  },
  {
   "cell_type": "code",
   "execution_count": 7,
   "id": "6d1930b8",
   "metadata": {},
   "outputs": [
    {
     "data": {
      "text/html": [
       "<div>\n",
       "<style scoped>\n",
       "    .dataframe tbody tr th:only-of-type {\n",
       "        vertical-align: middle;\n",
       "    }\n",
       "\n",
       "    .dataframe tbody tr th {\n",
       "        vertical-align: top;\n",
       "    }\n",
       "\n",
       "    .dataframe thead th {\n",
       "        text-align: right;\n",
       "    }\n",
       "</style>\n",
       "<table border=\"1\" class=\"dataframe\">\n",
       "  <thead>\n",
       "    <tr style=\"text-align: right;\">\n",
       "      <th></th>\n",
       "      <th>Col_A</th>\n",
       "      <th>Col_B</th>\n",
       "      <th>Col_C</th>\n",
       "    </tr>\n",
       "  </thead>\n",
       "  <tbody>\n",
       "    <tr>\n",
       "      <th>sum</th>\n",
       "      <td>220</td>\n",
       "      <td>260</td>\n",
       "      <td>300</td>\n",
       "    </tr>\n",
       "    <tr>\n",
       "      <th>min</th>\n",
       "      <td>10</td>\n",
       "      <td>20</td>\n",
       "      <td>30</td>\n",
       "    </tr>\n",
       "  </tbody>\n",
       "</table>\n",
       "</div>"
      ],
      "text/plain": [
       "     Col_A  Col_B  Col_C\n",
       "sum    220    260    300\n",
       "min     10     20     30"
      ]
     },
     "execution_count": 7,
     "metadata": {},
     "output_type": "execute_result"
    }
   ],
   "source": [
    "df.agg(['sum', 'min'])"
   ]
  },
  {
   "cell_type": "code",
   "execution_count": 8,
   "id": "4f9491f9",
   "metadata": {},
   "outputs": [
    {
     "data": {
      "text/html": [
       "<div>\n",
       "<style scoped>\n",
       "    .dataframe tbody tr th:only-of-type {\n",
       "        vertical-align: middle;\n",
       "    }\n",
       "\n",
       "    .dataframe tbody tr th {\n",
       "        vertical-align: top;\n",
       "    }\n",
       "\n",
       "    .dataframe thead th {\n",
       "        text-align: right;\n",
       "    }\n",
       "</style>\n",
       "<table border=\"1\" class=\"dataframe\">\n",
       "  <thead>\n",
       "    <tr style=\"text-align: right;\">\n",
       "      <th></th>\n",
       "      <th>Col_A</th>\n",
       "      <th>Col_B</th>\n",
       "      <th>Col_C</th>\n",
       "    </tr>\n",
       "  </thead>\n",
       "  <tbody>\n",
       "    <tr>\n",
       "      <th>sum</th>\n",
       "      <td>220</td>\n",
       "      <td>260</td>\n",
       "      <td>300</td>\n",
       "    </tr>\n",
       "    <tr>\n",
       "      <th>min</th>\n",
       "      <td>10</td>\n",
       "      <td>20</td>\n",
       "      <td>30</td>\n",
       "    </tr>\n",
       "    <tr>\n",
       "      <th>max</th>\n",
       "      <td>100</td>\n",
       "      <td>110</td>\n",
       "      <td>120</td>\n",
       "    </tr>\n",
       "  </tbody>\n",
       "</table>\n",
       "</div>"
      ],
      "text/plain": [
       "     Col_A  Col_B  Col_C\n",
       "sum    220    260    300\n",
       "min     10     20     30\n",
       "max    100    110    120"
      ]
     },
     "execution_count": 8,
     "metadata": {},
     "output_type": "execute_result"
    }
   ],
   "source": [
    "df.agg(['sum', 'min', 'max'])"
   ]
  },
  {
   "cell_type": "code",
   "execution_count": 12,
   "id": "ae1198fa",
   "metadata": {},
   "outputs": [
    {
     "data": {
      "text/html": [
       "<div>\n",
       "<style scoped>\n",
       "    .dataframe tbody tr th:only-of-type {\n",
       "        vertical-align: middle;\n",
       "    }\n",
       "\n",
       "    .dataframe tbody tr th {\n",
       "        vertical-align: top;\n",
       "    }\n",
       "\n",
       "    .dataframe thead th {\n",
       "        text-align: right;\n",
       "    }\n",
       "</style>\n",
       "<table border=\"1\" class=\"dataframe\">\n",
       "  <thead>\n",
       "    <tr style=\"text-align: right;\">\n",
       "      <th></th>\n",
       "      <th>Col_A</th>\n",
       "      <th>Col_B</th>\n",
       "    </tr>\n",
       "  </thead>\n",
       "  <tbody>\n",
       "    <tr>\n",
       "      <th>sum</th>\n",
       "      <td>220.0</td>\n",
       "      <td>NaN</td>\n",
       "    </tr>\n",
       "    <tr>\n",
       "      <th>min</th>\n",
       "      <td>10.0</td>\n",
       "      <td>20.0</td>\n",
       "    </tr>\n",
       "    <tr>\n",
       "      <th>max</th>\n",
       "      <td>NaN</td>\n",
       "      <td>110.0</td>\n",
       "    </tr>\n",
       "  </tbody>\n",
       "</table>\n",
       "</div>"
      ],
      "text/plain": [
       "     Col_A  Col_B\n",
       "sum  220.0    NaN\n",
       "min   10.0   20.0\n",
       "max    NaN  110.0"
      ]
     },
     "execution_count": 12,
     "metadata": {},
     "output_type": "execute_result"
    }
   ],
   "source": [
    "df.agg({'Col_A' : ['sum', 'min'],\n",
    "        'Col_B' : ['max', 'min']})\n"
   ]
  },
  {
   "cell_type": "code",
   "execution_count": 13,
   "id": "1438aedd",
   "metadata": {},
   "outputs": [
    {
     "data": {
      "text/html": [
       "<div>\n",
       "<style scoped>\n",
       "    .dataframe tbody tr th:only-of-type {\n",
       "        vertical-align: middle;\n",
       "    }\n",
       "\n",
       "    .dataframe tbody tr th {\n",
       "        vertical-align: top;\n",
       "    }\n",
       "\n",
       "    .dataframe thead th {\n",
       "        text-align: right;\n",
       "    }\n",
       "</style>\n",
       "<table border=\"1\" class=\"dataframe\">\n",
       "  <thead>\n",
       "    <tr style=\"text-align: right;\">\n",
       "      <th></th>\n",
       "      <th>Col_A</th>\n",
       "      <th>Col_C</th>\n",
       "    </tr>\n",
       "  </thead>\n",
       "  <tbody>\n",
       "    <tr>\n",
       "      <th>max</th>\n",
       "      <td>100.0</td>\n",
       "      <td>NaN</td>\n",
       "    </tr>\n",
       "    <tr>\n",
       "      <th>min</th>\n",
       "      <td>NaN</td>\n",
       "      <td>30.0</td>\n",
       "    </tr>\n",
       "    <tr>\n",
       "      <th>sum</th>\n",
       "      <td>NaN</td>\n",
       "      <td>300.0</td>\n",
       "    </tr>\n",
       "  </tbody>\n",
       "</table>\n",
       "</div>"
      ],
      "text/plain": [
       "     Col_A  Col_C\n",
       "max  100.0    NaN\n",
       "min    NaN   30.0\n",
       "sum    NaN  300.0"
      ]
     },
     "execution_count": 13,
     "metadata": {},
     "output_type": "execute_result"
    }
   ],
   "source": [
    "df.agg({'Col_A' : ['max'],\n",
    "       'Col_C' : ['min','sum']})"
   ]
  },
  {
   "cell_type": "code",
   "execution_count": 15,
   "id": "59765756",
   "metadata": {},
   "outputs": [
    {
     "data": {
      "text/html": [
       "<div>\n",
       "<style scoped>\n",
       "    .dataframe tbody tr th:only-of-type {\n",
       "        vertical-align: middle;\n",
       "    }\n",
       "\n",
       "    .dataframe tbody tr th {\n",
       "        vertical-align: top;\n",
       "    }\n",
       "\n",
       "    .dataframe thead th {\n",
       "        text-align: right;\n",
       "    }\n",
       "</style>\n",
       "<table border=\"1\" class=\"dataframe\">\n",
       "  <thead>\n",
       "    <tr style=\"text-align: right;\">\n",
       "      <th></th>\n",
       "      <th>Col_C</th>\n",
       "    </tr>\n",
       "  </thead>\n",
       "  <tbody>\n",
       "    <tr>\n",
       "      <th>sum</th>\n",
       "      <td>300.0</td>\n",
       "    </tr>\n",
       "    <tr>\n",
       "      <th>mean</th>\n",
       "      <td>75.0</td>\n",
       "    </tr>\n",
       "  </tbody>\n",
       "</table>\n",
       "</div>"
      ],
      "text/plain": [
       "      Col_C\n",
       "sum   300.0\n",
       "mean   75.0"
      ]
     },
     "execution_count": 15,
     "metadata": {},
     "output_type": "execute_result"
    }
   ],
   "source": [
    "df.agg({'Col_C' : ['sum', 'mean']})"
   ]
  },
  {
   "cell_type": "code",
   "execution_count": 17,
   "id": "bbf62e80",
   "metadata": {},
   "outputs": [
    {
     "data": {
      "text/plain": [
       "0     20.0\n",
       "1     50.0\n",
       "2     80.0\n",
       "3    110.0\n",
       "dtype: float64"
      ]
     },
     "execution_count": 17,
     "metadata": {},
     "output_type": "execute_result"
    }
   ],
   "source": [
    "df.agg('mean', axis = 'columns')"
   ]
  },
  {
   "cell_type": "code",
   "execution_count": 19,
   "id": "490e494b",
   "metadata": {},
   "outputs": [
    {
     "data": {
      "text/html": [
       "<div>\n",
       "<style scoped>\n",
       "    .dataframe tbody tr th:only-of-type {\n",
       "        vertical-align: middle;\n",
       "    }\n",
       "\n",
       "    .dataframe tbody tr th {\n",
       "        vertical-align: top;\n",
       "    }\n",
       "\n",
       "    .dataframe thead th {\n",
       "        text-align: right;\n",
       "    }\n",
       "</style>\n",
       "<table border=\"1\" class=\"dataframe\">\n",
       "  <thead>\n",
       "    <tr style=\"text-align: right;\">\n",
       "      <th></th>\n",
       "      <th>st_name</th>\n",
       "      <th>sub</th>\n",
       "      <th>marks</th>\n",
       "    </tr>\n",
       "  </thead>\n",
       "  <tbody>\n",
       "    <tr>\n",
       "      <th>0</th>\n",
       "      <td>Rohan</td>\n",
       "      <td>math</td>\n",
       "      <td>44</td>\n",
       "    </tr>\n",
       "    <tr>\n",
       "      <th>1</th>\n",
       "      <td>Mohan</td>\n",
       "      <td>sci</td>\n",
       "      <td>38</td>\n",
       "    </tr>\n",
       "    <tr>\n",
       "      <th>2</th>\n",
       "      <td>Sohan</td>\n",
       "      <td>eng</td>\n",
       "      <td>41</td>\n",
       "    </tr>\n",
       "  </tbody>\n",
       "</table>\n",
       "</div>"
      ],
      "text/plain": [
       "  st_name   sub  marks\n",
       "0   Rohan  math     44\n",
       "1   Mohan   sci     38\n",
       "2   Sohan   eng     41"
      ]
     },
     "execution_count": 19,
     "metadata": {},
     "output_type": "execute_result"
    }
   ],
   "source": [
    "df = pd.DataFrame({\n",
    "    'st_name' : ['Rohan', 'Mohan', 'Sohan'],\n",
    "    'sub' : ['math', 'sci', 'eng'],\n",
    "    'marks' : [44, 38, 41]\n",
    "})\n",
    "df"
   ]
  },
  {
   "cell_type": "code",
   "execution_count": 20,
   "id": "5c465948",
   "metadata": {},
   "outputs": [
    {
     "data": {
      "text/html": [
       "<div>\n",
       "<style scoped>\n",
       "    .dataframe tbody tr th:only-of-type {\n",
       "        vertical-align: middle;\n",
       "    }\n",
       "\n",
       "    .dataframe tbody tr th {\n",
       "        vertical-align: top;\n",
       "    }\n",
       "\n",
       "    .dataframe thead th {\n",
       "        text-align: right;\n",
       "    }\n",
       "</style>\n",
       "<table border=\"1\" class=\"dataframe\">\n",
       "  <thead>\n",
       "    <tr style=\"text-align: right;\">\n",
       "      <th></th>\n",
       "      <th>st_name</th>\n",
       "      <th>sub</th>\n",
       "      <th>marks</th>\n",
       "    </tr>\n",
       "  </thead>\n",
       "  <tbody>\n",
       "    <tr>\n",
       "      <th>0</th>\n",
       "      <td>Rohan</td>\n",
       "      <td>math</td>\n",
       "      <td>44</td>\n",
       "    </tr>\n",
       "    <tr>\n",
       "      <th>1</th>\n",
       "      <td>Mohan</td>\n",
       "      <td>sci</td>\n",
       "      <td>38</td>\n",
       "    </tr>\n",
       "    <tr>\n",
       "      <th>2</th>\n",
       "      <td>Sohan</td>\n",
       "      <td>eng</td>\n",
       "      <td>41</td>\n",
       "    </tr>\n",
       "  </tbody>\n",
       "</table>\n",
       "</div>"
      ],
      "text/plain": [
       "  st_name   sub  marks\n",
       "0   Rohan  math     44\n",
       "1   Mohan   sci     38\n",
       "2   Sohan   eng     41"
      ]
     },
     "execution_count": 20,
     "metadata": {},
     "output_type": "execute_result"
    }
   ],
   "source": [
    "data = {\n",
    "        'st_name' : ['Rohan', 'Mohan', 'Sohan'],\n",
    "    'sub' : ['math', 'sci', 'eng'],\n",
    "    'marks' : [44, 38, 41]    \n",
    "}\n",
    "df = pd.DataFrame(data)\n",
    "df"
   ]
  },
  {
   "cell_type": "code",
   "execution_count": null,
   "id": "c89d044c",
   "metadata": {},
   "outputs": [],
   "source": [
    "from functools import reduce\n"
   ]
  }
 ],
 "metadata": {
  "kernelspec": {
   "display_name": "Python 3 (ipykernel)",
   "language": "python",
   "name": "python3"
  },
  "language_info": {
   "codemirror_mode": {
    "name": "ipython",
    "version": 3
   },
   "file_extension": ".py",
   "mimetype": "text/x-python",
   "name": "python",
   "nbconvert_exporter": "python",
   "pygments_lexer": "ipython3",
   "version": "3.9.7"
  }
 },
 "nbformat": 4,
 "nbformat_minor": 5
}
